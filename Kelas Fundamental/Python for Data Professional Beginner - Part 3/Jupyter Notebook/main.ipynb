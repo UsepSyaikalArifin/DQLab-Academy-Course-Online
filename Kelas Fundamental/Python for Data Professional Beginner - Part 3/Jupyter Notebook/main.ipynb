{
 "cells": [
  {
   "cell_type": "markdown",
   "source": [
    "# Pengantar Object Oriented Programming"
   ],
   "metadata": {}
  },
  {
   "cell_type": "code",
   "execution_count": 1,
   "source": [
    "class Karyawan:\r\n",
    "    pass\r\n",
    "\r\n",
    "aksara = Karyawan()\r\n",
    "senja = Karyawan()"
   ],
   "outputs": [],
   "metadata": {}
  },
  {
   "cell_type": "markdown",
   "source": [
    "# Class Variable"
   ],
   "metadata": {}
  },
  {
   "cell_type": "code",
   "execution_count": 6,
   "source": [
    "class Karyawan:\r\n",
    "    nama_perusahaan = \"ABC\"\r\n",
    "\r\n",
    "aksara = Karyawan()\r\n",
    "senja = Karyawan()\r\n",
    "\r\n",
    "print(aksara.__class__.nama_perusahaan)"
   ],
   "outputs": [
    {
     "output_type": "stream",
     "name": "stdout",
     "text": [
      "ABC\n"
     ]
    }
   ],
   "metadata": {}
  },
  {
   "cell_type": "code",
   "execution_count": 12,
   "source": [
    "class Karyawan:\r\n",
    "    nama_perusahaan = \"ABC\"\r\n",
    "\r\n",
    "aksara = Karyawan()\r\n",
    "senja = Karyawan()\r\n",
    "\r\n",
    "aksara.__class__.nama_perusahaan = \"DEF\"\r\n",
    "print(aksara.__class__.nama_perusahaan)\r\n",
    "print(senja.__class__.nama_perusahaan)\r\n",
    "\r\n",
    "print(aksara.nama_perusahaan)\r\n",
    "print(senja.nama_perusahaan)"
   ],
   "outputs": [
    {
     "output_type": "stream",
     "name": "stdout",
     "text": [
      "DEF\n",
      "DEF\n",
      "DEF\n",
      "DEF\n"
     ]
    }
   ],
   "metadata": {}
  },
  {
   "cell_type": "code",
   "execution_count": 14,
   "source": [
    "# Definisikan class Karyawan\r\n",
    "class Karyawan:\r\n",
    "    nama_perusahaan = \"ABC\"\r\n",
    "\r\n",
    "# Inisiasi Object yang dinyatakan dalam variabel aksara dan senja\r\n",
    "aksara = Karyawan()\r\n",
    "senja = Karyawan()\r\n",
    "\r\n",
    "# Cetak nama perusahaan melalui penggunaan keyword __class_ pada class attribute nama_perusahaan\r\n",
    "print(aksara.__class__.nama_perusahaan)\r\n",
    "\r\n",
    "# Ubah nama_perusahaan menjadi \"DEF\"\r\n",
    "aksara.__class__.nama_perusahaan = \"DEF\"\r\n",
    "\r\n",
    "# Cetak nama_perusahaan objek aksara dengan senja\r\n",
    "print(aksara.__class__.nama_perusahaan)\r\n",
    "print(senja.__class__.nama_perusahaan)"
   ],
   "outputs": [
    {
     "output_type": "stream",
     "name": "stdout",
     "text": [
      "ABC\n",
      "DEF\n",
      "DEF\n"
     ]
    }
   ],
   "metadata": {}
  },
  {
   "cell_type": "markdown",
   "source": [
    "# Instance Variable"
   ],
   "metadata": {}
  },
  {
   "cell_type": "code",
   "execution_count": 17,
   "source": [
    "# Definisikan class Karyawan\r\n",
    "class Karyawan:\r\n",
    "    nama_perusahaan = \"ABC\"\r\n",
    "    def __init__(self, nama, usia, pendapatan):\r\n",
    "        self.nama = nama\r\n",
    "        self.usia = usia\r\n",
    "        self.pendapatan = pendapatan\r\n",
    "\r\n",
    "# Buat objek bernama aksara dan senja\r\n",
    "aksara = Karyawan(\"Aksara\", 25, 8500000)\r\n",
    "senja = Karyawan(\"Senja\", 28, 12500000)\r\n",
    "\r\n",
    "# Cetak objek bernama aksara\r\n",
    "print(aksara.nama + \", Usia: \" + str(aksara.usia) + \", Pendapatan \" + str(aksara.pendapatan))\r\n",
    "# Cetak objek bernama senja\r\n",
    "print(senja.nama + \", Usia: \" + str(senja.usia) + \", Pendapatan \" + str(senja.pendapatan))"
   ],
   "outputs": [
    {
     "output_type": "stream",
     "name": "stdout",
     "text": [
      "Aksara, Usia: 25, Pendapatan 8500000\n",
      "Senja, Usia: 28, Pendapatan 12500000\n"
     ]
    }
   ],
   "metadata": {}
  },
  {
   "cell_type": "code",
   "execution_count": 19,
   "source": [
    "# Definisikan class Karyawan\r\n",
    "class Karyawan:\r\n",
    "    nama_perusahaan = \"ABC\"\r\n",
    "    def __init__(self, nama, usia, pendapatan):\r\n",
    "        self.nama = nama\r\n",
    "        self.usia = usia\r\n",
    "        self.pendapatan = pendapatan\r\n",
    "\r\n",
    "# Buat object bernama aksara dan senja\r\n",
    "aksara = Karyawan(\"Aksara\", 25, 8500000)\r\n",
    "senja = Karyawan(\"Senja\", 28, 12500000)\r\n",
    "\r\n",
    "# Cetak objek bernama senja dan aksara\r\n",
    "print(senja.nama + \", Usia: \" + str(senja.usia) + \", Pendapatan \" + str(senja.pendapatan))\r\n",
    "print(aksara.nama + \", Usia: \" + str(aksara.usia) + \", Pendapatan \" + str(aksara.pendapatan))"
   ],
   "outputs": [
    {
     "output_type": "stream",
     "name": "stdout",
     "text": [
      "Senja, Usia: 28, Pendapatan 12500000\n",
      "Aksara, Usia: 25, Pendapatan 8500000\n"
     ]
    }
   ],
   "metadata": {}
  },
  {
   "cell_type": "markdown",
   "source": [
    "# Encapsulation"
   ],
   "metadata": {}
  },
  {
   "cell_type": "code",
   "execution_count": 1,
   "source": [
    "class Karyawan:\r\n",
    "    nama_perusahaan = \"ABC\"\r\n",
    "    insentif_lembur = 250000\r\n",
    "    def __init__(self, nama, usia, pendapatan):\r\n",
    "        self.nama = nama\r\n",
    "        self.usia = usia\r\n",
    "        self.pendapatan = pendapatan\r\n",
    "        self.pendapatan_tambahan = 0\r\n",
    "    def lembur(self):\r\n",
    "        self.pendapatan_tambahan += self.insentif_lembur\r\n",
    "    def tambahan_proyek(self, insentif_proyek):\r\n",
    "        self.pendapatan_tambahan += insentif_proyek\r\n",
    "    def total_pendapatan(self):\r\n",
    "        return self.pendapatan + self.pendapatan_tambahan\r\n",
    "\r\n",
    "aksara = Karyawan(\"Aksara\", 25, 8500000)\r\n",
    "senja = Karyawan(\"Senja\", 28, 12500000)\r\n",
    "print(aksara.nama)\r\n",
    "print(senja.nama)"
   ],
   "outputs": [
    {
     "output_type": "stream",
     "name": "stdout",
     "text": [
      "Aksara\n",
      "Senja\n"
     ]
    }
   ],
   "metadata": {}
  },
  {
   "cell_type": "code",
   "execution_count": 9,
   "source": [
    "class Karyawan:\r\n",
    "    nama_perusahaan = \"ABC\"\r\n",
    "    __insentif_lembur = 250000\r\n",
    "    def __init__(self, nama, usia, pendapatan):\r\n",
    "        self.__nama = nama\r\n",
    "        self.__usia = usia\r\n",
    "        self.__pendapatan = pendapatan\r\n",
    "        self.__pendapatan_tambahan = 0\r\n",
    "    def lembur(self):\r\n",
    "        self.__pendapatan_tambahan += self.__insentif_lembur\r\n",
    "    def tambahan_proyek(self, insentif_proyek):\r\n",
    "        self.__pendapatan_tambahan += insentif_proyek\r\n",
    "    def total_pendapatan(self):\r\n",
    "        return self.__pendapatan + self.__pendapatan_tambahan\r\n",
    "\r\n",
    "aksara = Karyawan(\"Aksara\", 25, 8500000)\r\n",
    "print(aksara.__class__.nama_perusahaan)\r\n",
    "print(aksara.__nama)"
   ],
   "outputs": [
    {
     "output_type": "stream",
     "name": "stdout",
     "text": [
      "ABC\n"
     ]
    },
    {
     "output_type": "error",
     "ename": "AttributeError",
     "evalue": "'Karyawan' object has no attribute '__nama'",
     "traceback": [
      "\u001b[1;31m---------------------------------------------------------------------------\u001b[0m",
      "\u001b[1;31mAttributeError\u001b[0m                            Traceback (most recent call last)",
      "\u001b[1;32m~\\AppData\\Local\\Temp/ipykernel_10128/3921694655.py\u001b[0m in \u001b[0;36m<module>\u001b[1;34m\u001b[0m\n\u001b[0;32m     16\u001b[0m \u001b[0maksara\u001b[0m \u001b[1;33m=\u001b[0m \u001b[0mKaryawan\u001b[0m\u001b[1;33m(\u001b[0m\u001b[1;34m\"Aksara\"\u001b[0m\u001b[1;33m,\u001b[0m \u001b[1;36m25\u001b[0m\u001b[1;33m,\u001b[0m \u001b[1;36m8500000\u001b[0m\u001b[1;33m)\u001b[0m\u001b[1;33m\u001b[0m\u001b[1;33m\u001b[0m\u001b[0m\n\u001b[0;32m     17\u001b[0m \u001b[0mprint\u001b[0m\u001b[1;33m(\u001b[0m\u001b[0maksara\u001b[0m\u001b[1;33m.\u001b[0m\u001b[0m__class__\u001b[0m\u001b[1;33m.\u001b[0m\u001b[0mnama_perusahaan\u001b[0m\u001b[1;33m)\u001b[0m\u001b[1;33m\u001b[0m\u001b[1;33m\u001b[0m\u001b[0m\n\u001b[1;32m---> 18\u001b[1;33m \u001b[0mprint\u001b[0m\u001b[1;33m(\u001b[0m\u001b[0maksara\u001b[0m\u001b[1;33m.\u001b[0m\u001b[0m__nama\u001b[0m\u001b[1;33m)\u001b[0m\u001b[1;33m\u001b[0m\u001b[1;33m\u001b[0m\u001b[0m\n\u001b[0m",
      "\u001b[1;31mAttributeError\u001b[0m: 'Karyawan' object has no attribute '__nama'"
     ]
    }
   ],
   "metadata": {}
  },
  {
   "cell_type": "code",
   "execution_count": 18,
   "source": [
    "# Definisikan class Karyawan\r\n",
    "class Karyawan:\r\n",
    "    nama_perusahaan = \"ABC\"\r\n",
    "    __insentif_lembur = 250000\r\n",
    "    def __init__(self, nama, usia, pendapatan):\r\n",
    "        self.__nama = nama\r\n",
    "        self.__usia = usia\r\n",
    "        self.__pendapatan = pendapatan\r\n",
    "        self.__pendapatan_tambahan = 0\r\n",
    "    def lembur(self):\r\n",
    "        self.__pendapatan_tambahan += self.__insentif_lembur\r\n",
    "    def tambahan_proyek(self, insentif_proyek):\r\n",
    "        self.__pendapatan_tambahan += insentif_proyek\r\n",
    "    def total_pendapatan(self):\r\n",
    "        return self.__pendapatan + self.__pendapatan_tambahan\r\n",
    "    # Buat objek karyawan bernama aksara\r\n",
    "aksara = Karyawan(\"Aksara\", 25, 8500000)\r\n",
    "    # Akses ke attribute class Karyawan\r\n",
    "print(aksara.__class__.nama_perusahaan)\r\n",
    "    # akan menimbulkan error ketika di run\r\n",
    "print(aksara.__nama)"
   ],
   "outputs": [
    {
     "output_type": "stream",
     "name": "stdout",
     "text": [
      "ABC\n"
     ]
    },
    {
     "output_type": "error",
     "ename": "AttributeError",
     "evalue": "'Karyawan' object has no attribute '__nama'",
     "traceback": [
      "\u001b[1;31m---------------------------------------------------------------------------\u001b[0m",
      "\u001b[1;31mAttributeError\u001b[0m                            Traceback (most recent call last)",
      "\u001b[1;32m~\\AppData\\Local\\Temp/ipykernel_10128/3341593081.py\u001b[0m in \u001b[0;36m<module>\u001b[1;34m\u001b[0m\n\u001b[0;32m     19\u001b[0m \u001b[0mprint\u001b[0m\u001b[1;33m(\u001b[0m\u001b[0maksara\u001b[0m\u001b[1;33m.\u001b[0m\u001b[0m__class__\u001b[0m\u001b[1;33m.\u001b[0m\u001b[0mnama_perusahaan\u001b[0m\u001b[1;33m)\u001b[0m\u001b[1;33m\u001b[0m\u001b[1;33m\u001b[0m\u001b[0m\n\u001b[0;32m     20\u001b[0m     \u001b[1;31m# akan menimbulkan error ketika di run\u001b[0m\u001b[1;33m\u001b[0m\u001b[1;33m\u001b[0m\u001b[0m\n\u001b[1;32m---> 21\u001b[1;33m \u001b[0mprint\u001b[0m\u001b[1;33m(\u001b[0m\u001b[0maksara\u001b[0m\u001b[1;33m.\u001b[0m\u001b[0m__nama\u001b[0m\u001b[1;33m)\u001b[0m\u001b[1;33m\u001b[0m\u001b[1;33m\u001b[0m\u001b[0m\n\u001b[0m",
      "\u001b[1;31mAttributeError\u001b[0m: 'Karyawan' object has no attribute '__nama'"
     ]
    }
   ],
   "metadata": {}
  },
  {
   "cell_type": "code",
   "execution_count": 1,
   "source": [
    "class Karyawan:\r\n",
    "    nama_perusahaan = \"ABC\"\r\n",
    "    __insentif_lembur = 250000\r\n",
    "    def __init__(self, nama, usia, pendapatan):\r\n",
    "        self.__nama = nama\r\n",
    "        self.__usia = usia\r\n",
    "        self.__pendapatan = pendapatan\r\n",
    "        self.__pendapatan_tambahan = 0\r\n",
    "    def lembur(self):\r\n",
    "        self.__pendapatan_tambahan += self.__insentif_lembur\r\n",
    "    def tambahan_proyek(self, insentif_proyek):\r\n",
    "        self.__pendapatan_tambahan += insentif_proyek\r\n",
    "    def total_pendapatan(self):\r\n",
    "        return self.__pendapatan + self.__pendapatan_tambahan\r\n",
    "\r\n",
    "aksara = Karyawan(\"Aksara\", 25, 8500000)\r\n",
    "aksara.tambahan_proyek(aksara.__insentif_lembur)\r\n",
    "aksara.lembur()\r\n",
    "aksara.lembur()\r\n",
    "print(aksara.total_pendapatan())"
   ],
   "outputs": [
    {
     "output_type": "error",
     "ename": "AttributeError",
     "evalue": "'Karyawan' object has no attribute '__insentif_lembur'",
     "traceback": [
      "\u001b[1;31m---------------------------------------------------------------------------\u001b[0m",
      "\u001b[1;31mAttributeError\u001b[0m                            Traceback (most recent call last)",
      "\u001b[1;32m~\\AppData\\Local\\Temp/ipykernel_4508/1653521913.py\u001b[0m in \u001b[0;36m<module>\u001b[1;34m\u001b[0m\n\u001b[0;32m     15\u001b[0m \u001b[1;33m\u001b[0m\u001b[0m\n\u001b[0;32m     16\u001b[0m \u001b[0maksara\u001b[0m \u001b[1;33m=\u001b[0m \u001b[0mKaryawan\u001b[0m\u001b[1;33m(\u001b[0m\u001b[1;34m\"Aksara\"\u001b[0m\u001b[1;33m,\u001b[0m \u001b[1;36m25\u001b[0m\u001b[1;33m,\u001b[0m \u001b[1;36m8500000\u001b[0m\u001b[1;33m)\u001b[0m\u001b[1;33m\u001b[0m\u001b[1;33m\u001b[0m\u001b[0m\n\u001b[1;32m---> 17\u001b[1;33m \u001b[0maksara\u001b[0m\u001b[1;33m.\u001b[0m\u001b[0mtambahan_proyek\u001b[0m\u001b[1;33m(\u001b[0m\u001b[0maksara\u001b[0m\u001b[1;33m.\u001b[0m\u001b[0m__insentif_lembur\u001b[0m\u001b[1;33m)\u001b[0m\u001b[1;33m\u001b[0m\u001b[1;33m\u001b[0m\u001b[0m\n\u001b[0m\u001b[0;32m     18\u001b[0m \u001b[0maksara\u001b[0m\u001b[1;33m.\u001b[0m\u001b[0mlembur\u001b[0m\u001b[1;33m(\u001b[0m\u001b[1;33m)\u001b[0m\u001b[1;33m\u001b[0m\u001b[1;33m\u001b[0m\u001b[0m\n\u001b[0;32m     19\u001b[0m \u001b[0maksara\u001b[0m\u001b[1;33m.\u001b[0m\u001b[0mlembur\u001b[0m\u001b[1;33m(\u001b[0m\u001b[1;33m)\u001b[0m\u001b[1;33m\u001b[0m\u001b[1;33m\u001b[0m\u001b[0m\n",
      "\u001b[1;31mAttributeError\u001b[0m: 'Karyawan' object has no attribute '__insentif_lembur'"
     ]
    }
   ],
   "metadata": {}
  },
  {
   "cell_type": "code",
   "execution_count": 5,
   "source": [
    "class Karyawan:\r\n",
    "    nama_perusahaan = \"ABC\"\r\n",
    "    insentif_lembur = 250000\r\n",
    "    def __init__(self, nama, usia, pendapatan):\r\n",
    "        self.__nama = nama\r\n",
    "        self.__usia = usia\r\n",
    "        self.__pendapatan = pendapatan\r\n",
    "        self.__pendapatan_tambahan = 0\r\n",
    "    def lembur(self):\r\n",
    "        insentif_lembur = self.__insentif_lembur\r\n",
    "        if usia > 30:\r\n",
    "            insentif_lembur *= 2\r\n",
    "        self.__pendapatan_tambahan += insentif_lembur\r\n",
    "    def tambahan_proyek(self, insentif_proyek):\r\n",
    "        self.__pendapatan_tambahan += insentif_proyek\r\n",
    "    def total_pendapatan(self):\r\n",
    "        return self.__pendapatan + self.__pendapatan_tambahan\r\n",
    "\r\n",
    "karyawan_1 = Karyawan(\"Kiki\", 35, 8000000)\r\n",
    "karyawan_1.lembur()\r\n",
    "karyawan_1.tambahan_proyek(karyawan_1.total_pendapatan())\r\n",
    "print(karyawan_1.total_pendapatan())"
   ],
   "outputs": [
    {
     "output_type": "error",
     "ename": "AttributeError",
     "evalue": "'Karyawan' object has no attribute '_Karyawan__insentif_lembur'",
     "traceback": [
      "\u001b[1;31m---------------------------------------------------------------------------\u001b[0m",
      "\u001b[1;31mAttributeError\u001b[0m                            Traceback (most recent call last)",
      "\u001b[1;32m~\\AppData\\Local\\Temp/ipykernel_4508/504254917.py\u001b[0m in \u001b[0;36m<module>\u001b[1;34m\u001b[0m\n\u001b[0;32m     18\u001b[0m \u001b[1;33m\u001b[0m\u001b[0m\n\u001b[0;32m     19\u001b[0m \u001b[0mkaryawan_1\u001b[0m \u001b[1;33m=\u001b[0m \u001b[0mKaryawan\u001b[0m\u001b[1;33m(\u001b[0m\u001b[1;34m\"Kiki\"\u001b[0m\u001b[1;33m,\u001b[0m \u001b[1;36m35\u001b[0m\u001b[1;33m,\u001b[0m \u001b[1;36m8000000\u001b[0m\u001b[1;33m)\u001b[0m\u001b[1;33m\u001b[0m\u001b[1;33m\u001b[0m\u001b[0m\n\u001b[1;32m---> 20\u001b[1;33m \u001b[0mkaryawan_1\u001b[0m\u001b[1;33m.\u001b[0m\u001b[0mlembur\u001b[0m\u001b[1;33m(\u001b[0m\u001b[1;33m)\u001b[0m\u001b[1;33m\u001b[0m\u001b[1;33m\u001b[0m\u001b[0m\n\u001b[0m\u001b[0;32m     21\u001b[0m \u001b[0mkaryawan_1\u001b[0m\u001b[1;33m.\u001b[0m\u001b[0mtambahan_proyek\u001b[0m\u001b[1;33m(\u001b[0m\u001b[0mkaryawan_1\u001b[0m\u001b[1;33m.\u001b[0m\u001b[0mtotal_pendapatan\u001b[0m\u001b[1;33m(\u001b[0m\u001b[1;33m)\u001b[0m\u001b[1;33m)\u001b[0m\u001b[1;33m\u001b[0m\u001b[1;33m\u001b[0m\u001b[0m\n\u001b[0;32m     22\u001b[0m \u001b[0mprint\u001b[0m\u001b[1;33m(\u001b[0m\u001b[0mkaryawan_1\u001b[0m\u001b[1;33m.\u001b[0m\u001b[0mtotal_pendapatan\u001b[0m\u001b[1;33m(\u001b[0m\u001b[1;33m)\u001b[0m\u001b[1;33m)\u001b[0m\u001b[1;33m\u001b[0m\u001b[1;33m\u001b[0m\u001b[0m\n",
      "\u001b[1;32m~\\AppData\\Local\\Temp/ipykernel_4508/504254917.py\u001b[0m in \u001b[0;36mlembur\u001b[1;34m(self)\u001b[0m\n\u001b[0;32m      8\u001b[0m         \u001b[0mself\u001b[0m\u001b[1;33m.\u001b[0m\u001b[0m__pendapatan_tambahan\u001b[0m \u001b[1;33m=\u001b[0m \u001b[1;36m0\u001b[0m\u001b[1;33m\u001b[0m\u001b[1;33m\u001b[0m\u001b[0m\n\u001b[0;32m      9\u001b[0m     \u001b[1;32mdef\u001b[0m \u001b[0mlembur\u001b[0m\u001b[1;33m(\u001b[0m\u001b[0mself\u001b[0m\u001b[1;33m)\u001b[0m\u001b[1;33m:\u001b[0m\u001b[1;33m\u001b[0m\u001b[1;33m\u001b[0m\u001b[0m\n\u001b[1;32m---> 10\u001b[1;33m         \u001b[0minsentif_lembur\u001b[0m \u001b[1;33m=\u001b[0m \u001b[0mself\u001b[0m\u001b[1;33m.\u001b[0m\u001b[0m__insentif_lembur\u001b[0m\u001b[1;33m\u001b[0m\u001b[1;33m\u001b[0m\u001b[0m\n\u001b[0m\u001b[0;32m     11\u001b[0m         \u001b[1;32mif\u001b[0m \u001b[0musia\u001b[0m \u001b[1;33m>\u001b[0m \u001b[1;36m30\u001b[0m\u001b[1;33m:\u001b[0m\u001b[1;33m\u001b[0m\u001b[1;33m\u001b[0m\u001b[0m\n\u001b[0;32m     12\u001b[0m             \u001b[0minsentif_lembur\u001b[0m \u001b[1;33m*=\u001b[0m \u001b[1;36m2\u001b[0m\u001b[1;33m\u001b[0m\u001b[1;33m\u001b[0m\u001b[0m\n",
      "\u001b[1;31mAttributeError\u001b[0m: 'Karyawan' object has no attribute '_Karyawan__insentif_lembur'"
     ]
    }
   ],
   "metadata": {}
  },
  {
   "cell_type": "code",
   "execution_count": 9,
   "source": [
    "class Karyawan:\r\n",
    "    nama_perusahaan = \"ABC\"\r\n",
    "    insentif_lembur = 250000\r\n",
    "    def __init__(self, nama, usia, pendapatan):\r\n",
    "        self.nama = nama\r\n",
    "        self.usia = usia\r\n",
    "        self.pendapatan = pendapatan\r\n",
    "        self.pendapatan_tambahan = 0\r\n",
    "    def lembur(self):\r\n",
    "        self.pendapatan_tambahan += self.insentif_lembur\r\n",
    "    def tambahan_proyek(self, insentif_proyek):\r\n",
    "        self.pendapatan_tambahan += insentif_proyek\r\n",
    "    def total_pendapatan(self):\r\n",
    "        return self.pendapatan + self.pendapatan_tambahan\r\n",
    "        \r\n",
    "class AnalisData(Karyawan):\r\n",
    "    def __init__(self, nama, usia, pendapatan):\r\n",
    "        super().__init__(nama, usia, pendapatan)\r\n",
    "\r\n",
    "class IlmuwanData(Karyawan):\r\n",
    "    def __init__(self, nama, usia, pendapatan):\r\n",
    "        super().__init__(nama, usia, pendapatan)\r\n",
    "\r\n",
    "aksara = AnalisData(\"Aksara\", 25, 8500000)\r\n",
    "aksara.lembur()\r\n",
    "print(aksara.total_pendapatan())"
   ],
   "outputs": [
    {
     "output_type": "stream",
     "name": "stdout",
     "text": [
      "8750000\n"
     ]
    }
   ],
   "metadata": {}
  },
  {
   "cell_type": "code",
   "execution_count": 11,
   "source": [
    "# Definisikan class Karyawan (sebagai base class)\r\n",
    "class Karyawan:\r\n",
    "    nama_perusahaan = \"ABC\"\r\n",
    "    insentif_lembur = 250000\r\n",
    "    def __init__(self, nama, usia, pendapatan):\r\n",
    "        self.nama = nama\r\n",
    "        self.usia = usia\r\n",
    "        self.pendapatan = pendapatan\r\n",
    "        self.pendapatan_tambahan = 0\r\n",
    "    def lembur(self):\r\n",
    "        self.pendapatan_tambahan += self.insentif_lembur\r\n",
    "    def tambahan_proyek(self, insentif_proyek):\r\n",
    "        self.pendapatan_tambahan += insentif_proyek\r\n",
    "    def total_pendapatan(self):\r\n",
    "        return self.pendapatan + self.pendapatan_tambahan\r\n",
    "\r\n",
    "class AnalisData(Karyawan):\r\n",
    "    def __init__(self, nama, usia, pendapatan):\r\n",
    "        super().__init__(nama, usia, pendapatan)\r\n",
    "\r\n",
    "class IlmuwanData(Karyawan):\r\n",
    "    def __init__(self, nama, usia, pendapatan):\r\n",
    "        super().__init__(nama, usia, pendapatan)\r\n",
    "\r\n",
    "aksara = AnalisData(\"Aksara\", 25, 8500000)\r\n",
    "aksara.lembur()\r\n",
    "print(aksara.total_pendapatan())\r\n",
    "\r\n",
    "senja = IlmuwanData(\"Senja\", 28, 13000000)\r\n",
    "senja.tambahan_proyek(2000000)\r\n",
    "print(senja.total_pendapatan())"
   ],
   "outputs": [
    {
     "output_type": "stream",
     "name": "stdout",
     "text": [
      "8750000\n",
      "15000000\n"
     ]
    }
   ],
   "metadata": {}
  },
  {
   "cell_type": "code",
   "execution_count": 14,
   "source": [
    "class Karyawan:\r\n",
    "    nama_perusahaan = \"ABC\"\r\n",
    "    insentif_lembur = 250000\r\n",
    "    def __init__(self, nama, usia, pendapatan):\r\n",
    "        self.nama = nama\r\n",
    "        self.usia = usia\r\n",
    "        self.pendapatan = pendapatan\r\n",
    "        self.pendapatan_tambahan = 0\r\n",
    "    def lembur(self):\r\n",
    "        self.pendapatan_tambahan += self.insentif_lembur\r\n",
    "    def tambahan_proyek(self, insentif_proyek):\r\n",
    "        self.pendapatan_tambahan += insentif_proyek\r\n",
    "    def total_pendapatan(self):\r\n",
    "        return self.pendapatan + self.pendapatan_tambahan\r\n",
    "\r\n",
    "class AnalisData(Karyawan):\r\n",
    "    def __init__(self, nama, usia, pendapatan):\r\n",
    "        super().__init__(nama, usia, pendapatan)\r\n",
    "\r\n",
    "class IlmuwanData(Karyawan):\r\n",
    "    insentif_lembur = 500000\r\n",
    "    def __init__(self, nama, usia, pendapatan):\r\n",
    "        super().__init__(nama, usia, pendapatan)\r\n",
    "\r\n",
    "aksara = AnalisData(\"Aksara\", 25, 8500000)\r\n",
    "aksara.lembur()\r\n",
    "print(aksara.total_pendapatan())\r\n",
    "\r\n",
    "senja = IlmuwanData(\"Senja\", 28, 13000000)\r\n",
    "senja.lembur()\r\n",
    "print(senja.total_pendapatan())"
   ],
   "outputs": [
    {
     "output_type": "stream",
     "name": "stdout",
     "text": [
      "8750000\n",
      "13500000\n"
     ]
    }
   ],
   "metadata": {}
  },
  {
   "cell_type": "code",
   "execution_count": 4,
   "source": [
    "class Karyawan:\r\n",
    "    nama_perusahaan = \"ABC\"\r\n",
    "    insentif_lembur = 250000\r\n",
    "    def __init__(self, nama, usia, pendapatan):\r\n",
    "        self.nama = nama\r\n",
    "        self.usia = usia\r\n",
    "        self.pendapatan = pendapatan\r\n",
    "        self.pendapatan_tambahan = 0\r\n",
    "    def lembur(self):\r\n",
    "        self.pendapatan_tambahan += self.insentif_lembur\r\n",
    "    def tambahan_proyek(self, insentif_proyek):\r\n",
    "        self.pendapatan_tambahan += insentif_proyek\r\n",
    "    def total_pendapatan(self):\r\n",
    "        return self.pendapatan + self.pendapatan_tambahan\r\n",
    "\r\n",
    "class AnalisData(Karyawan):\r\n",
    "    def __init__(self, nama, usia, pendapatan):\r\n",
    "        super().__init__(nama, usia, pendapatan)\r\n",
    "\r\n",
    "class IlmuwanData(Karyawan):\r\n",
    "    insentif_lembur = 500000\r\n",
    "    def __init__(self, nama, usia, pendapatan):\r\n",
    "        super().__init__(nama, usia, pendapatan)\r\n",
    "\r\n",
    "aksara = AnalisData(\"Aksara\", 25, 8500000)\r\n",
    "aksara.lembur()\r\n",
    "print(aksara.total_pendapatan())\r\n",
    "\r\n",
    "senja = IlmuwanData(\"Senja\", 28, 13000000)\r\n",
    "senja.lembur()\r\n",
    "print(senja.total_pendapatan())"
   ],
   "outputs": [
    {
     "output_type": "stream",
     "name": "stdout",
     "text": [
      "8750000\n",
      "13500000\n"
     ]
    }
   ],
   "metadata": {}
  },
  {
   "cell_type": "code",
   "execution_count": 5,
   "source": [
    "class Burung:\r\n",
    "    def __init__(self, nama):\r\n",
    "        self.nama = nama\r\n",
    "    def fly(self):\r\n",
    "        print(nama + \" sedang terbang\")\r\n",
    "\r\n",
    "class Ayam(Burung):\r\n",
    "    def fly(self):\r\n",
    "        print(self.nama + \" tidak bisa terbang\")\r\n",
    "\r\n",
    "anak_ayam = Ayam(\"Si Jago\")\r\n",
    "anak_ayam.fly()"
   ],
   "outputs": [
    {
     "output_type": "stream",
     "name": "stdout",
     "text": [
      "Si Jago tidak bisa terbang\n"
     ]
    }
   ],
   "metadata": {}
  },
  {
   "cell_type": "code",
   "execution_count": 7,
   "source": [
    "class Mamalia:\r\n",
    "    def __init__(self, nama):\r\n",
    "        self.__nama = nama\r\n",
    "    def interaksi(self):\r\n",
    "        print(\"Bersuara\")\r\n",
    "\r\n",
    "class Anjing(Mamalia):\r\n",
    "    def interaksi(self):\r\n",
    "        print(\"Guk\")\r\n",
    "\r\n",
    "class Manusia(Mamalia):\r\n",
    "    pass\r\n",
    "\r\n",
    "blacky = Anjing(\"Blacky\")\r\n",
    "toni = Manusia(\"Toni\")\r\n",
    "toni.interaksi()\r\n",
    "blacky.interaksi()"
   ],
   "outputs": [
    {
     "output_type": "stream",
     "name": "stdout",
     "text": [
      "Bersuara\n",
      "Guk\n"
     ]
    }
   ],
   "metadata": {}
  },
  {
   "cell_type": "markdown",
   "source": [
    "# Polymorphism"
   ],
   "metadata": {}
  },
  {
   "cell_type": "code",
   "execution_count": 3,
   "source": [
    "class Karyawan:\r\n",
    "    nama_perusahaan = \"ABC\"\r\n",
    "    insentif_lembur = 250000\r\n",
    "    def __init__(self, nama, usia, pendapatan):\r\n",
    "        self.nama = nama\r\n",
    "        self.usia = usia\r\n",
    "        self.pendapatan = pendapatan\r\n",
    "        self.pendapatan_tambahan = 0\r\n",
    "    def lembur(self):\r\n",
    "        self.pendapatan_tambahan += self.insentif_lembur\r\n",
    "    def tambahan_proyek(self, insentif_proyek):\r\n",
    "        self.pendapatan_tambahan += insentif_proyek\r\n",
    "    def total_pendapatan(self):\r\n",
    "        return self.pendapatan + self.pendapatan_tambahan\r\n",
    "\r\n",
    "class AnalisData(Karyawan):\r\n",
    "    def __init__(self, nama, usia, pendapatan):\r\n",
    "        super().__init__(nama, usia, pendapatan)\r\n",
    "    def lembur(self):\r\n",
    "        self.pendapatan_tambahan += int(self.pendapatan * 0.1)\r\n",
    "\r\n",
    "aksara = AnalisData(\"Aksara\", 25, 8500000)\r\n",
    "aksara.lembur()\r\n",
    "print(aksara.total_pendapatan())"
   ],
   "outputs": [
    {
     "output_type": "stream",
     "name": "stdout",
     "text": [
      "9350000\n"
     ]
    }
   ],
   "metadata": {}
  },
  {
   "cell_type": "code",
   "execution_count": 5,
   "source": [
    "# Definisikan class Karyawan (sebagai base class)\r\n",
    "class Karyawan:\r\n",
    "    nama_perusahaan = \"ABC\"\r\n",
    "    insentif_lembur = 250000\r\n",
    "\r\n",
    "    def __init__(self, nama, usia, pendapatan):\r\n",
    "        self.nama = nama\r\n",
    "        self.usia = usia\r\n",
    "        self.pendapatan = pendapatan\r\n",
    "        self.pendapatan_tambahan = 0\r\n",
    "    def lembur(self):\r\n",
    "        self.pendapatan_tambahan += self.insentif_lembur\r\n",
    "    def tambahan_proyek(self, insentif_proyek):\r\n",
    "        self.pendapatan_tambahan += insentif_proyek\r\n",
    "    def total_pendapatan(self):\r\n",
    "        return self.pendapatan + self.pendapatan_tambahan\r\n",
    "\r\n",
    "class AnalisData(Karyawan):\r\n",
    "    def __init__(self, nama, usia, pendapatan):\r\n",
    "        super().__init__(nama, usia, pendapatan)\r\n",
    "    def lembur(self):\r\n",
    "        self.pendapatan_tambahan += int(self.pendapatan * 0.1)\r\n",
    "\r\n",
    "aksara = AnalisData(\"Aksara\", 25, 8500000)\r\n",
    "aksara.lembur()\r\n",
    "print(aksara.total_pendapatan())"
   ],
   "outputs": [
    {
     "output_type": "stream",
     "name": "stdout",
     "text": [
      "9350000\n"
     ]
    }
   ],
   "metadata": {}
  },
  {
   "cell_type": "code",
   "execution_count": 7,
   "source": [
    "class Karyawan:\r\n",
    "    nama_perusahaan = \"ABC\"\r\n",
    "    insentif_lembur = 250000\r\n",
    "\r\n",
    "    def __init__(self, nama, usia, pendapatan):\r\n",
    "        self.nama = nama\r\n",
    "        self.usia = usia\r\n",
    "        self.pendapatan = pendapatan\r\n",
    "        self.pendapatan_tambahan = 0\r\n",
    "    def lembur(self):\r\n",
    "        self.pendapatan_tambahan += self.insentif_lembur\r\n",
    "    def tambahan_proyek(self, insentif_proyek):\r\n",
    "        self.pendapatan_tambahan += insentif_proyek\r\n",
    "    def total_pendapatan(self):\r\n",
    "        return self.pendapatan + self.pendapatan_tambahan\r\n",
    "\r\n",
    "class AnalisData(Karyawan):\r\n",
    "    def __init__(self, nama, usia, pendapatan):\r\n",
    "        super().__init__(nama, usia, pendapatan)\r\n",
    "    def lembur(self):\r\n",
    "        super().lembur()\r\n",
    "        self.pendapatan_tambahan += int(self.pendapatan * 0.05)\r\n",
    "\r\n",
    "aksara = AnalisData(\"Aksara\", 25, 8500000)\r\n",
    "aksara.lembur()\r\n",
    "print(aksara.total_pendapatan())"
   ],
   "outputs": [
    {
     "output_type": "stream",
     "name": "stdout",
     "text": [
      "9175000\n"
     ]
    }
   ],
   "metadata": {}
  },
  {
   "cell_type": "code",
   "execution_count": 9,
   "source": [
    "# Definisikan class Karyawan (sebagai base class)\r\n",
    "class Karyawan:\r\n",
    "    nama_perusahaan = \"ABC\"\r\n",
    "    insentif_lembur = 250000\r\n",
    "\r\n",
    "    def __init__(self, nama, usia, pendapatan):\r\n",
    "        self.nama = nama\r\n",
    "        self.usia = usia\r\n",
    "        self.pendapatan = pendapatan\r\n",
    "        self.pendapatan_tambahan = 0\r\n",
    "\r\n",
    "    def lembur(self):\r\n",
    "        self.pendapatan_tambahan += self.insentif_lembur\r\n",
    "\r\n",
    "    def tambahan_proyek(self, insentif_proyek):\r\n",
    "        self.pendapatan_tambahan += insentif_proyek\r\n",
    "\r\n",
    "    def total_pendapatan(self):\r\n",
    "        return self.pendapatan + self.pendapatan_tambahan\r\n",
    "\r\n",
    "class AnalisData(Karyawan):\r\n",
    "    def __init__(self, nama, usia, pendapatan):\r\n",
    "        super().__init__(nama, usia, pendapatan)\r\n",
    "\r\n",
    "    def lembur(self):\r\n",
    "        super().lembur()\r\n",
    "        self.pendapatan_tambahan += int(self.pendapatan * 0.05)\r\n",
    "\r\n",
    "aksara = AnalisData(\"Aksara\", 25, 8500000)\r\n",
    "aksara.lembur()\r\n",
    "print(aksara.total_pendapatan())"
   ],
   "outputs": [
    {
     "output_type": "stream",
     "name": "stdout",
     "text": [
      "9175000\n"
     ]
    }
   ],
   "metadata": {}
  },
  {
   "cell_type": "code",
   "execution_count": 10,
   "source": [
    "class Karyawan:\r\n",
    "    def __init__(self, nama, usia, pendapatan, insentif_lembur):\r\n",
    "        self.nama = nama\r\n",
    "        self.usia = usia\r\n",
    "        self.pendapatan = pendapatan\r\n",
    "        self.pendapatan_tambahan = 0\r\n",
    "        self.insentif_lembur = self.insentif_lembur\r\n",
    "    def lembur(self):\r\n",
    "        self.pendapatan_tambahan += self.insentif_lembur\r\n",
    "    def tambahan_proyek(self, jumlah_pendapatan):\r\n",
    "        self.pendapatan_tambahan += jumlah_pendapatan\r\n",
    "    def total_pendapatan(self):\r\n",
    "        return self.pendapatan + self.pendapatan_tambahan\r\n",
    "\r\n",
    "class TenagaLepas(Karyawan):\r\n",
    "    def __init__(self, nama, usia, pendapatan, insentif_lembur):\r\n",
    "        super().__init__(nama, usia, pendapatan, 0)\r\n",
    "\r\n",
    "    def tambahan_proyek(self, nilai_proyek):\r\n",
    "        self.pendapatan_tambahan += nilai_proyek*0.01"
   ],
   "outputs": [],
   "metadata": {}
  },
  {
   "cell_type": "code",
   "execution_count": 16,
   "source": [
    "# Definisikan class Karyawan sebagai parent class\r\n",
    "class Karyawan:\r\n",
    "    def __init__(self, nama, usia, pendapatan, insentif_lembur):\r\n",
    "        self.nama = nama\r\n",
    "        self.usia = usia\r\n",
    "        self.pendapatan = pendapatan\r\n",
    "        self.pendapatan_tambahan = 0\r\n",
    "        self.insentif_lembur = insentif_lembur\r\n",
    "    def lembur(self):\r\n",
    "        self.pendapatan_tambahan += self.insentif_lembur\r\n",
    "    def tambahan_proyek(self, jumlah_tambahan):\r\n",
    "        self.pendapatan_tambahan += jumlah_tambahan\r\n",
    "    def total_pendapatan(self):\r\n",
    "        return self.pendapatan + self.pendapatan_tambahan\r\n",
    "\r\n",
    "# Definisikan class TenagaLepas sebagai child class dari class Karyawan\r\n",
    "class TenagaLepas(Karyawan):\r\n",
    "    def __init__(self, nama, usia, pendapatan):\r\n",
    "        super().__init__(nama, usia, pendapatan, 0)\r\n",
    "    def tambahan_proyek(self, nilai_proyek):\r\n",
    "        self.pendapatan_tambahan += nilai_proyek * 0.01\r\n",
    "\r\n",
    "class AnalisData(Karyawan):\r\n",
    "    pass\r\n",
    "\r\n",
    "class IlmuwanData(Karyawan):\r\n",
    "    def tambahan_proyek(self, nilai_proyek):\r\n",
    "        self.pendapatan_tambahan += 0.1 * nilai_proyek\r\n",
    "\r\n",
    "class PembersihData(TenagaLepas):\r\n",
    "    pass\r\n",
    "\r\n",
    "class DokumenterTeknis(TenagaLepas):\r\n",
    "    def tambahan_proyek(self, jumlah_tambahan):\r\n",
    "        return\r\n",
    "\r\n",
    "a = PembersihData(\"a\", 24, 1000000)\r\n",
    "a.lembur()\r\n",
    "print(a.total_pendapatan())"
   ],
   "outputs": [
    {
     "output_type": "stream",
     "name": "stdout",
     "text": [
      "1000000\n"
     ]
    }
   ],
   "metadata": {}
  },
  {
   "cell_type": "code",
   "execution_count": 19,
   "source": [
    "class Karyawan:\r\n",
    "    nama_perusahaan = \"ABC\"\r\n",
    "    insentif_lembur = 250000\r\n",
    "\r\n",
    "    def __init__(self, nama, usia=21, pendapatan=5000000):\r\n",
    "        self.nama = nama\r\n",
    "        self.usia = usia\r\n",
    "        self.pendapatan = pendapatan\r\n",
    "        self.pendapatan_tambahan = 0\r\n",
    "    def lembur(self):\r\n",
    "        self.pendapatan_tambahan += self.insentif_lembur\r\n",
    "    def tambahan_proyek(self, insentif_proyek):\r\n",
    "        self.pendapatan_tambahan += insentif_proyek\r\n",
    "    def total_pendapatan(self):\r\n",
    "        return self.pendapatan + self.pendapatan_tambahan\r\n",
    "\r\n",
    "karyawan_baru_1 = Karyawan(\"Budi\")\r\n",
    "print(karyawan_baru_1.nama)\r\n",
    "print(karyawan_baru_1.usia)\r\n",
    "print(karyawan_baru_1.total_pendapatan())\r\n",
    "\r\n",
    "karyawan_baru_2 = Karyawan(\"Didi\", usia=25)\r\n",
    "print(karyawan_baru_2.nama)\r\n",
    "print(karyawan_baru_2.usia)\r\n",
    "print(karyawan_baru_2.total_pendapatan())\r\n",
    "\r\n",
    "karyawan_baru_3 = Karyawan(\"Hadi\", pendapatan=8000000)\r\n",
    "print(karyawan_baru_3.nama)\r\n",
    "print(karyawan_baru_3.usia)\r\n",
    "print(karyawan_baru_3.total_pendapatan())"
   ],
   "outputs": [
    {
     "output_type": "stream",
     "name": "stdout",
     "text": [
      "Budi\n",
      "21\n",
      "5000000\n",
      "Didi\n",
      "25\n",
      "5000000\n",
      "Hadi\n",
      "21\n",
      "8000000\n"
     ]
    }
   ],
   "metadata": {}
  },
  {
   "cell_type": "code",
   "execution_count": 24,
   "source": [
    "# Definisikan class Karyawan sebagai parent class\r\n",
    "class Karyawan:\r\n",
    "    def __init__(self, nama, usia, pendapatan, insentif_lembur):\r\n",
    "        self.nama = nama\r\n",
    "        self.usia = usia\r\n",
    "        self.pendapatan = pendapatan\r\n",
    "        self.pendapatan_tambahan = 0\r\n",
    "        self.insentif_lembur = insentif_lembur\r\n",
    "    def lembur(self):\r\n",
    "        self.pendapatan_tambahan += self.insentif_lembur\r\n",
    "    def tambahan_proyek(self, insentif_proyek):\r\n",
    "        self.pendapatan_tambahan += insentif_proyek\r\n",
    "    def total_pendapatan(self):\r\n",
    "        return self.pendapatan + self.pendapatan_tambahan\r\n",
    "\r\n",
    "class TenagaLepas(Karyawan):\r\n",
    "    def __init__(self, nama, usia, pendapatan):\r\n",
    "        super().__init__(nama, usia, pendapatan, 0)\r\n",
    "    def tambahan_proyek(self, nilai_proyek):\r\n",
    "        self.pendapatan_tambahan += nilai_proyek * 0.01\r\n",
    "\r\n",
    "class AnalisData(Karyawan):\r\n",
    "    def __init__(self, nama, usia=21, pendapatan=6500000, insentif_lembur=100000):\r\n",
    "        super().__init__(nama, usia, pendapatan, insentif_lembur)\r\n",
    "\r\n",
    "class IlmuwanData(Karyawan):\r\n",
    "    def __init__(self, nama, usia=25, pendapatan=12000000, insentif_lembur=150000):\r\n",
    "        super().__init__(nama, usia, pendapatan, insentif_lembur)\r\n",
    "    def tambahan_proyek(self, nilai_proyek):\r\n",
    "        self.pendapatan_tambahan += 0.1 * nilai_proyek\r\n",
    "\r\n",
    "class PembersihData(TenagaLepas):\r\n",
    "    def __init__(self, nama, usia, pendapatan=4000000):\r\n",
    "        super().__init__(nama, usia, pendapatan)\r\n",
    "\r\n",
    "class DokumenterTeknis(TenagaLepas):\r\n",
    "    def __init__(self, nama, usia, pendapatan=2500000):\r\n",
    "        super().__init__(nama, usia, pendapatan)\r\n",
    "    def tambahan_proyek(self, jumlah_tambahan): \r\n",
    "        return\r\n",
    "\r\n",
    "class Perusahaan:\r\n",
    "    def __init__(self, nama, alamat, nomor_telepon):\r\n",
    "        self.nama = nama\r\n",
    "        self.alamat = alamat\r\n",
    "        self.nomor_telepon = nomor_telepon\r\n",
    "        self.list_karyawan = []\r\n",
    "    def aktifkan_karyawan(self, karyawan):\r\n",
    "        self.list_karyawan.append(karyawan)\r\n",
    "    def nonaktifkan_karyawan(self, nama_karyawan):\r\n",
    "        karyawan_nonaktif = None\r\n",
    "        for karyawan in self.list_karyawan:\r\n",
    "            if karyawan in self.list_karyawan:\r\n",
    "                karyawan_nonaktif = karyawan\r\n",
    "                break\r\n",
    "        if karyawan_nonaktif is not None:\r\n",
    "            self.list_karyawan.remove(karyawan_nonaktif)\r\n",
    "    def total_pengeluaran(self):\r\n",
    "        pengeluaran = 0\r\n",
    "        for karyawan in self.list_karyawan:\r\n",
    "            pengeluaran += karyawan.total_pendapatan()\r\n",
    "        return pengeluaran\r\n",
    "    def cari_karyawan(self, nama_karyawan):\r\n",
    "        for karyawan in self.list_karyawan:\r\n",
    "            if karyawan.nama == nama_karyawan:\r\n",
    "                return karyawan\r\n",
    "            return None\r\n",
    "\r\n",
    "ani = PembersihData(\"Ani\", 25)\r\n",
    "budi = DokumenterTeknis(\"Budi\", 18)\r\n",
    "cici = IlmuwanData(\"Cici\")\r\n",
    "didi = IlmuwanData(\"Didi\", 32, 20000000)\r\n",
    "efi = AnalisData(\"Efi\")\r\n",
    "febi = AnalisData(\"Febi\", 28, 12000000)\r\n",
    "\r\n",
    "perusahaan = Perusahaan(\"ABC\", \"JL. Jendral Sudirman, Blok 11\", \"(021) 95812XX\")\r\n",
    "\r\n",
    "perusahaan.aktifkan_karyawan(ani)\r\n",
    "perusahaan.aktifkan_karyawan(budi)\r\n",
    "perusahaan.aktifkan_karyawan(cici)\r\n",
    "perusahaan.aktifkan_karyawan(didi)\r\n",
    "perusahaan.aktifkan_karyawan(efi)\r\n",
    "perusahaan.aktifkan_karyawan(febi)\r\n",
    "\r\n",
    "print(perusahaan.total_pengeluaran())\r\n",
    "\r\n"
   ],
   "outputs": [
    {
     "output_type": "stream",
     "name": "stdout",
     "text": [
      "[<__main__.PembersihData object at 0x0000027F78DDB8E0>, <__main__.DokumenterTeknis object at 0x0000027F78DDB2B0>, <__main__.IlmuwanData object at 0x0000027F78DD9450>, <__main__.IlmuwanData object at 0x0000027F78DDA080>, <__main__.AnalisData object at 0x0000027F78DDA7D0>, <__main__.AnalisData object at 0x0000027F78DD81F0>]\n",
      "57000000\n"
     ]
    }
   ],
   "metadata": {}
  }
 ],
 "metadata": {
  "orig_nbformat": 4,
  "language_info": {
   "name": "python",
   "version": "3.10.0",
   "mimetype": "text/x-python",
   "codemirror_mode": {
    "name": "ipython",
    "version": 3
   },
   "pygments_lexer": "ipython3",
   "nbconvert_exporter": "python",
   "file_extension": ".py"
  },
  "kernelspec": {
   "name": "python3",
   "display_name": "Python 3.10.0 64-bit"
  },
  "interpreter": {
   "hash": "4a75e0d0dd098708d0098a4c895bf5e3024db9474b3e7b9a2be69864ceac39fa"
  }
 },
 "nbformat": 4,
 "nbformat_minor": 2
}