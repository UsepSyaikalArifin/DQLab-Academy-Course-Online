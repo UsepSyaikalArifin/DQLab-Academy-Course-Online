{
 "cells": [
  {
   "cell_type": "markdown",
   "metadata": {},
   "source": [
    "# Introduction to Numpy & Pandas"
   ]
  },
  {
   "cell_type": "markdown",
   "metadata": {},
   "source": [
    "## Load Library"
   ]
  },
  {
   "cell_type": "code",
   "execution_count": 1,
   "metadata": {},
   "outputs": [],
   "source": [
    "import numpy as np\n",
    "import pandas as pd\n",
    "import matplotlib.pyplot as plt\n",
    "import seaborn as sns\n",
    "\n",
    "from IPython.display import display\n",
    "from scipy import stats"
   ]
  },
  {
   "cell_type": "markdown",
   "metadata": {},
   "source": [
    "## Load Dataset"
   ]
  },
  {
   "cell_type": "code",
   "execution_count": 2,
   "metadata": {},
   "outputs": [
    {
     "data": {
      "text/html": [
       "<div>\n",
       "<style scoped>\n",
       "    .dataframe tbody tr th:only-of-type {\n",
       "        vertical-align: middle;\n",
       "    }\n",
       "\n",
       "    .dataframe tbody tr th {\n",
       "        vertical-align: top;\n",
       "    }\n",
       "\n",
       "    .dataframe thead th {\n",
       "        text-align: right;\n",
       "    }\n",
       "</style>\n",
       "<table border=\"1\" class=\"dataframe\">\n",
       "  <thead>\n",
       "    <tr style=\"text-align: right;\">\n",
       "      <th></th>\n",
       "      <th>ID Pelanggan</th>\n",
       "      <th>Nama</th>\n",
       "      <th>Jenis Kelamin</th>\n",
       "      <th>Pendapatan</th>\n",
       "      <th>Produk</th>\n",
       "      <th>Harga</th>\n",
       "      <th>Jumlah</th>\n",
       "      <th>Total</th>\n",
       "      <th>Tingkat Kepuasan</th>\n",
       "    </tr>\n",
       "  </thead>\n",
       "  <tbody>\n",
       "    <tr>\n",
       "      <th>0</th>\n",
       "      <td>1</td>\n",
       "      <td>Arif</td>\n",
       "      <td>1</td>\n",
       "      <td>600000</td>\n",
       "      <td>A</td>\n",
       "      <td>100000</td>\n",
       "      <td>4</td>\n",
       "      <td>400000</td>\n",
       "      <td>2</td>\n",
       "    </tr>\n",
       "    <tr>\n",
       "      <th>1</th>\n",
       "      <td>2</td>\n",
       "      <td>Dian</td>\n",
       "      <td>2</td>\n",
       "      <td>1200000</td>\n",
       "      <td>D</td>\n",
       "      <td>250000</td>\n",
       "      <td>4</td>\n",
       "      <td>1000000</td>\n",
       "      <td>2</td>\n",
       "    </tr>\n",
       "    <tr>\n",
       "      <th>2</th>\n",
       "      <td>3</td>\n",
       "      <td>Dinda</td>\n",
       "      <td>2</td>\n",
       "      <td>950000</td>\n",
       "      <td>D</td>\n",
       "      <td>250000</td>\n",
       "      <td>3</td>\n",
       "      <td>750000</td>\n",
       "      <td>3</td>\n",
       "    </tr>\n",
       "    <tr>\n",
       "      <th>3</th>\n",
       "      <td>4</td>\n",
       "      <td>Fajar</td>\n",
       "      <td>1</td>\n",
       "      <td>400000</td>\n",
       "      <td>A</td>\n",
       "      <td>100000</td>\n",
       "      <td>2</td>\n",
       "      <td>200000</td>\n",
       "      <td>3</td>\n",
       "    </tr>\n",
       "    <tr>\n",
       "      <th>4</th>\n",
       "      <td>5</td>\n",
       "      <td>Ika</td>\n",
       "      <td>2</td>\n",
       "      <td>1200000</td>\n",
       "      <td>D</td>\n",
       "      <td>250000</td>\n",
       "      <td>4</td>\n",
       "      <td>1000000</td>\n",
       "      <td>2</td>\n",
       "    </tr>\n",
       "    <tr>\n",
       "      <th>5</th>\n",
       "      <td>6</td>\n",
       "      <td>Ilham</td>\n",
       "      <td>1</td>\n",
       "      <td>800000</td>\n",
       "      <td>B</td>\n",
       "      <td>150000</td>\n",
       "      <td>4</td>\n",
       "      <td>600000</td>\n",
       "      <td>3</td>\n",
       "    </tr>\n",
       "    <tr>\n",
       "      <th>6</th>\n",
       "      <td>7</td>\n",
       "      <td>Indra</td>\n",
       "      <td>1</td>\n",
       "      <td>950000</td>\n",
       "      <td>B</td>\n",
       "      <td>150000</td>\n",
       "      <td>5</td>\n",
       "      <td>750000</td>\n",
       "      <td>1</td>\n",
       "    </tr>\n",
       "    <tr>\n",
       "      <th>7</th>\n",
       "      <td>8</td>\n",
       "      <td>Kartika</td>\n",
       "      <td>2</td>\n",
       "      <td>1100000</td>\n",
       "      <td>E</td>\n",
       "      <td>300000</td>\n",
       "      <td>3</td>\n",
       "      <td>900000</td>\n",
       "      <td>3</td>\n",
       "    </tr>\n",
       "    <tr>\n",
       "      <th>8</th>\n",
       "      <td>9</td>\n",
       "      <td>Lestari</td>\n",
       "      <td>2</td>\n",
       "      <td>800000</td>\n",
       "      <td>E</td>\n",
       "      <td>300000</td>\n",
       "      <td>2</td>\n",
       "      <td>600000</td>\n",
       "      <td>1</td>\n",
       "    </tr>\n",
       "    <tr>\n",
       "      <th>9</th>\n",
       "      <td>10</td>\n",
       "      <td>Lia</td>\n",
       "      <td>2</td>\n",
       "      <td>1700000</td>\n",
       "      <td>E</td>\n",
       "      <td>300000</td>\n",
       "      <td>5</td>\n",
       "      <td>1500000</td>\n",
       "      <td>1</td>\n",
       "    </tr>\n",
       "  </tbody>\n",
       "</table>\n",
       "</div>"
      ],
      "text/plain": [
       "   ID Pelanggan     Nama  Jenis Kelamin  Pendapatan Produk   Harga  Jumlah   \\\n",
       "0             1     Arif              1      600000      A  100000        4   \n",
       "1             2     Dian              2     1200000      D  250000        4   \n",
       "2             3    Dinda              2      950000      D  250000        3   \n",
       "3             4    Fajar              1      400000      A  100000        2   \n",
       "4             5      Ika              2     1200000      D  250000        4   \n",
       "5             6    Ilham              1      800000      B  150000        4   \n",
       "6             7    Indra              1      950000      B  150000        5   \n",
       "7             8  Kartika              2     1100000      E  300000        3   \n",
       "8             9  Lestari              2      800000      E  300000        2   \n",
       "9            10      Lia              2     1700000      E  300000        5   \n",
       "\n",
       "     Total  Tingkat Kepuasan  \n",
       "0   400000                 2  \n",
       "1  1000000                 2  \n",
       "2   750000                 3  \n",
       "3   200000                 3  \n",
       "4  1000000                 2  \n",
       "5   600000                 3  \n",
       "6   750000                 1  \n",
       "7   900000                 3  \n",
       "8   600000                 1  \n",
       "9  1500000                 1  "
      ]
     },
     "metadata": {},
     "output_type": "display_data"
    }
   ],
   "source": [
    "raw_data = pd.read_csv(\"https://storage.googleapis.com/dqlab-dataset/dataset_statistic.csv\", sep=\";\")\n",
    "# raw_data.to_csv(r\"D:\\Usep Syaikal Arifin\\Computer Programming\\Python\\DQLab-Academy-Course-Online\\Kelas Fundamental 2\\Statistic Using Python for Data Science\\File Dokumentasi\\File CSV\\dataset_statistic.csv\", index=None, header=True)\n",
    "# raw_data.to_excel(r\"D:\\Usep Syaikal Arifin\\Computer Programming\\Python\\DQLab-Academy-Course-Online\\Kelas Fundamental 2\\Statistic Using Python for Data Science\\File Dokumentasi\\File Excel\\dataset_statistic.xlsx\", index=None, header=True)\n",
    "display(raw_data.head(10))"
   ]
  },
  {
   "cell_type": "markdown",
   "metadata": {},
   "source": [
    "## Data Inspection"
   ]
  },
  {
   "cell_type": "code",
   "execution_count": 3,
   "metadata": {},
   "outputs": [
    {
     "data": {
      "text/html": [
       "<div>\n",
       "<style scoped>\n",
       "    .dataframe tbody tr th:only-of-type {\n",
       "        vertical-align: middle;\n",
       "    }\n",
       "\n",
       "    .dataframe tbody tr th {\n",
       "        vertical-align: top;\n",
       "    }\n",
       "\n",
       "    .dataframe thead th {\n",
       "        text-align: right;\n",
       "    }\n",
       "</style>\n",
       "<table border=\"1\" class=\"dataframe\">\n",
       "  <thead>\n",
       "    <tr style=\"text-align: right;\">\n",
       "      <th></th>\n",
       "      <th>ID Pelanggan</th>\n",
       "      <th>Nama</th>\n",
       "      <th>Jenis Kelamin</th>\n",
       "      <th>Pendapatan</th>\n",
       "      <th>Produk</th>\n",
       "      <th>Harga</th>\n",
       "      <th>Jumlah</th>\n",
       "      <th>Total</th>\n",
       "      <th>Tingkat Kepuasan</th>\n",
       "    </tr>\n",
       "  </thead>\n",
       "  <tbody>\n",
       "    <tr>\n",
       "      <th>0</th>\n",
       "      <td>1</td>\n",
       "      <td>Arif</td>\n",
       "      <td>1</td>\n",
       "      <td>600000</td>\n",
       "      <td>A</td>\n",
       "      <td>100000</td>\n",
       "      <td>4</td>\n",
       "      <td>400000</td>\n",
       "      <td>2</td>\n",
       "    </tr>\n",
       "    <tr>\n",
       "      <th>1</th>\n",
       "      <td>2</td>\n",
       "      <td>Dian</td>\n",
       "      <td>2</td>\n",
       "      <td>1200000</td>\n",
       "      <td>D</td>\n",
       "      <td>250000</td>\n",
       "      <td>4</td>\n",
       "      <td>1000000</td>\n",
       "      <td>2</td>\n",
       "    </tr>\n",
       "    <tr>\n",
       "      <th>2</th>\n",
       "      <td>3</td>\n",
       "      <td>Dinda</td>\n",
       "      <td>2</td>\n",
       "      <td>950000</td>\n",
       "      <td>D</td>\n",
       "      <td>250000</td>\n",
       "      <td>3</td>\n",
       "      <td>750000</td>\n",
       "      <td>3</td>\n",
       "    </tr>\n",
       "    <tr>\n",
       "      <th>3</th>\n",
       "      <td>4</td>\n",
       "      <td>Fajar</td>\n",
       "      <td>1</td>\n",
       "      <td>400000</td>\n",
       "      <td>A</td>\n",
       "      <td>100000</td>\n",
       "      <td>2</td>\n",
       "      <td>200000</td>\n",
       "      <td>3</td>\n",
       "    </tr>\n",
       "    <tr>\n",
       "      <th>4</th>\n",
       "      <td>5</td>\n",
       "      <td>Ika</td>\n",
       "      <td>2</td>\n",
       "      <td>1200000</td>\n",
       "      <td>D</td>\n",
       "      <td>250000</td>\n",
       "      <td>4</td>\n",
       "      <td>1000000</td>\n",
       "      <td>2</td>\n",
       "    </tr>\n",
       "    <tr>\n",
       "      <th>5</th>\n",
       "      <td>6</td>\n",
       "      <td>Ilham</td>\n",
       "      <td>1</td>\n",
       "      <td>800000</td>\n",
       "      <td>B</td>\n",
       "      <td>150000</td>\n",
       "      <td>4</td>\n",
       "      <td>600000</td>\n",
       "      <td>3</td>\n",
       "    </tr>\n",
       "    <tr>\n",
       "      <th>6</th>\n",
       "      <td>7</td>\n",
       "      <td>Indra</td>\n",
       "      <td>1</td>\n",
       "      <td>950000</td>\n",
       "      <td>B</td>\n",
       "      <td>150000</td>\n",
       "      <td>5</td>\n",
       "      <td>750000</td>\n",
       "      <td>1</td>\n",
       "    </tr>\n",
       "    <tr>\n",
       "      <th>7</th>\n",
       "      <td>8</td>\n",
       "      <td>Kartika</td>\n",
       "      <td>2</td>\n",
       "      <td>1100000</td>\n",
       "      <td>E</td>\n",
       "      <td>300000</td>\n",
       "      <td>3</td>\n",
       "      <td>900000</td>\n",
       "      <td>3</td>\n",
       "    </tr>\n",
       "    <tr>\n",
       "      <th>8</th>\n",
       "      <td>9</td>\n",
       "      <td>Lestari</td>\n",
       "      <td>2</td>\n",
       "      <td>800000</td>\n",
       "      <td>E</td>\n",
       "      <td>300000</td>\n",
       "      <td>2</td>\n",
       "      <td>600000</td>\n",
       "      <td>1</td>\n",
       "    </tr>\n",
       "    <tr>\n",
       "      <th>9</th>\n",
       "      <td>10</td>\n",
       "      <td>Lia</td>\n",
       "      <td>2</td>\n",
       "      <td>1700000</td>\n",
       "      <td>E</td>\n",
       "      <td>300000</td>\n",
       "      <td>5</td>\n",
       "      <td>1500000</td>\n",
       "      <td>1</td>\n",
       "    </tr>\n",
       "  </tbody>\n",
       "</table>\n",
       "</div>"
      ],
      "text/plain": [
       "   ID Pelanggan     Nama  Jenis Kelamin  Pendapatan Produk   Harga  Jumlah   \\\n",
       "0             1     Arif              1      600000      A  100000        4   \n",
       "1             2     Dian              2     1200000      D  250000        4   \n",
       "2             3    Dinda              2      950000      D  250000        3   \n",
       "3             4    Fajar              1      400000      A  100000        2   \n",
       "4             5      Ika              2     1200000      D  250000        4   \n",
       "5             6    Ilham              1      800000      B  150000        4   \n",
       "6             7    Indra              1      950000      B  150000        5   \n",
       "7             8  Kartika              2     1100000      E  300000        3   \n",
       "8             9  Lestari              2      800000      E  300000        2   \n",
       "9            10      Lia              2     1700000      E  300000        5   \n",
       "\n",
       "     Total  Tingkat Kepuasan  \n",
       "0   400000                 2  \n",
       "1  1000000                 2  \n",
       "2   750000                 3  \n",
       "3   200000                 3  \n",
       "4  1000000                 2  \n",
       "5   600000                 3  \n",
       "6   750000                 1  \n",
       "7   900000                 3  \n",
       "8   600000                 1  \n",
       "9  1500000                 1  "
      ]
     },
     "metadata": {},
     "output_type": "display_data"
    },
    {
     "data": {
      "text/html": [
       "<div>\n",
       "<style scoped>\n",
       "    .dataframe tbody tr th:only-of-type {\n",
       "        vertical-align: middle;\n",
       "    }\n",
       "\n",
       "    .dataframe tbody tr th {\n",
       "        vertical-align: top;\n",
       "    }\n",
       "\n",
       "    .dataframe thead th {\n",
       "        text-align: right;\n",
       "    }\n",
       "</style>\n",
       "<table border=\"1\" class=\"dataframe\">\n",
       "  <thead>\n",
       "    <tr style=\"text-align: right;\">\n",
       "      <th></th>\n",
       "      <th>ID Pelanggan</th>\n",
       "      <th>Nama</th>\n",
       "      <th>Jenis Kelamin</th>\n",
       "      <th>Pendapatan</th>\n",
       "      <th>Produk</th>\n",
       "      <th>Harga</th>\n",
       "      <th>Jumlah</th>\n",
       "      <th>Total</th>\n",
       "      <th>Tingkat Kepuasan</th>\n",
       "    </tr>\n",
       "  </thead>\n",
       "  <tbody>\n",
       "    <tr>\n",
       "      <th>10</th>\n",
       "      <td>11</td>\n",
       "      <td>Maria</td>\n",
       "      <td>2</td>\n",
       "      <td>600000</td>\n",
       "      <td>A</td>\n",
       "      <td>100000</td>\n",
       "      <td>4</td>\n",
       "      <td>400000</td>\n",
       "      <td>3</td>\n",
       "    </tr>\n",
       "    <tr>\n",
       "      <th>11</th>\n",
       "      <td>12</td>\n",
       "      <td>Maya</td>\n",
       "      <td>2</td>\n",
       "      <td>950000</td>\n",
       "      <td>B</td>\n",
       "      <td>150000</td>\n",
       "      <td>5</td>\n",
       "      <td>750000</td>\n",
       "      <td>3</td>\n",
       "    </tr>\n",
       "    <tr>\n",
       "      <th>12</th>\n",
       "      <td>13</td>\n",
       "      <td>Mila</td>\n",
       "      <td>2</td>\n",
       "      <td>400000</td>\n",
       "      <td>C</td>\n",
       "      <td>200000</td>\n",
       "      <td>1</td>\n",
       "      <td>200000</td>\n",
       "      <td>2</td>\n",
       "    </tr>\n",
       "    <tr>\n",
       "      <th>13</th>\n",
       "      <td>14</td>\n",
       "      <td>Nurul</td>\n",
       "      <td>2</td>\n",
       "      <td>6450000</td>\n",
       "      <td>D</td>\n",
       "      <td>250000</td>\n",
       "      <td>5</td>\n",
       "      <td>1250000</td>\n",
       "      <td>1</td>\n",
       "    </tr>\n",
       "    <tr>\n",
       "      <th>14</th>\n",
       "      <td>15</td>\n",
       "      <td>Retno</td>\n",
       "      <td>2</td>\n",
       "      <td>1000000</td>\n",
       "      <td>C</td>\n",
       "      <td>200000</td>\n",
       "      <td>4</td>\n",
       "      <td>800000</td>\n",
       "      <td>2</td>\n",
       "    </tr>\n",
       "    <tr>\n",
       "      <th>15</th>\n",
       "      <td>16</td>\n",
       "      <td>Rini</td>\n",
       "      <td>2</td>\n",
       "      <td>800000</td>\n",
       "      <td>B</td>\n",
       "      <td>150000</td>\n",
       "      <td>4</td>\n",
       "      <td>600000</td>\n",
       "      <td>1</td>\n",
       "    </tr>\n",
       "    <tr>\n",
       "      <th>16</th>\n",
       "      <td>17</td>\n",
       "      <td>Rizki</td>\n",
       "      <td>1</td>\n",
       "      <td>1200000</td>\n",
       "      <td>C</td>\n",
       "      <td>200000</td>\n",
       "      <td>5</td>\n",
       "      <td>1000000</td>\n",
       "      <td>3</td>\n",
       "    </tr>\n",
       "    <tr>\n",
       "      <th>17</th>\n",
       "      <td>18</td>\n",
       "      <td>Sari</td>\n",
       "      <td>2</td>\n",
       "      <td>700000</td>\n",
       "      <td>D</td>\n",
       "      <td>250000</td>\n",
       "      <td>2</td>\n",
       "      <td>500000</td>\n",
       "      <td>1</td>\n",
       "    </tr>\n",
       "    <tr>\n",
       "      <th>18</th>\n",
       "      <td>19</td>\n",
       "      <td>Tyas</td>\n",
       "      <td>2</td>\n",
       "      <td>600000</td>\n",
       "      <td>A</td>\n",
       "      <td>100000</td>\n",
       "      <td>4</td>\n",
       "      <td>400000</td>\n",
       "      <td>3</td>\n",
       "    </tr>\n",
       "    <tr>\n",
       "      <th>19</th>\n",
       "      <td>20</td>\n",
       "      <td>Wahyu</td>\n",
       "      <td>1</td>\n",
       "      <td>800000</td>\n",
       "      <td>C</td>\n",
       "      <td>200000</td>\n",
       "      <td>3</td>\n",
       "      <td>600000</td>\n",
       "      <td>1</td>\n",
       "    </tr>\n",
       "  </tbody>\n",
       "</table>\n",
       "</div>"
      ],
      "text/plain": [
       "    ID Pelanggan   Nama  Jenis Kelamin  Pendapatan Produk   Harga  Jumlah   \\\n",
       "10            11  Maria              2      600000      A  100000        4   \n",
       "11            12   Maya              2      950000      B  150000        5   \n",
       "12            13   Mila              2      400000      C  200000        1   \n",
       "13            14  Nurul              2     6450000      D  250000        5   \n",
       "14            15  Retno              2     1000000      C  200000        4   \n",
       "15            16   Rini              2      800000      B  150000        4   \n",
       "16            17  Rizki              1     1200000      C  200000        5   \n",
       "17            18   Sari              2      700000      D  250000        2   \n",
       "18            19   Tyas              2      600000      A  100000        4   \n",
       "19            20  Wahyu              1      800000      C  200000        3   \n",
       "\n",
       "      Total  Tingkat Kepuasan  \n",
       "10   400000                 3  \n",
       "11   750000                 3  \n",
       "12   200000                 2  \n",
       "13  1250000                 1  \n",
       "14   800000                 2  \n",
       "15   600000                 1  \n",
       "16  1000000                 3  \n",
       "17   500000                 1  \n",
       "18   400000                 3  \n",
       "19   600000                 1  "
      ]
     },
     "metadata": {},
     "output_type": "display_data"
    }
   ],
   "source": [
    "display(raw_data.head(10))\n",
    "display(raw_data.tail(10))"
   ]
  },
  {
   "cell_type": "markdown",
   "metadata": {},
   "source": [
    "## Shape Methods"
   ]
  },
  {
   "cell_type": "code",
   "execution_count": 4,
   "metadata": {},
   "outputs": [
    {
     "name": "stdout",
     "output_type": "stream",
     "text": [
      "Shape of Dataset = 20 Rows & 9 Columns\n",
      "The Number of Dataset Rows = 20 Rows\n"
     ]
    }
   ],
   "source": [
    "print(\"Shape of Dataset = %d Rows & %d Columns\"%raw_data.shape)\n",
    "print(\"The Number of Dataset Rows = %d Rows\"%raw_data.shape[0])"
   ]
  },
  {
   "cell_type": "markdown",
   "metadata": {},
   "source": [
    "## View Dataset Columns"
   ]
  },
  {
   "cell_type": "code",
   "execution_count": 5,
   "metadata": {},
   "outputs": [
    {
     "data": {
      "text/plain": [
       "['ID Pelanggan',\n",
       " 'Nama',\n",
       " 'Jenis Kelamin',\n",
       " 'Pendapatan',\n",
       " 'Produk',\n",
       " 'Harga',\n",
       " 'Jumlah ',\n",
       " 'Total',\n",
       " 'Tingkat Kepuasan']"
      ]
     },
     "metadata": {},
     "output_type": "display_data"
    }
   ],
   "source": [
    "dataset_columns = raw_data.columns.to_list()\n",
    "display(dataset_columns)"
   ]
  },
  {
   "cell_type": "markdown",
   "metadata": {},
   "source": [
    "## Isna Methods"
   ]
  },
  {
   "cell_type": "code",
   "execution_count": 6,
   "metadata": {},
   "outputs": [
    {
     "data": {
      "text/html": [
       "<div>\n",
       "<style scoped>\n",
       "    .dataframe tbody tr th:only-of-type {\n",
       "        vertical-align: middle;\n",
       "    }\n",
       "\n",
       "    .dataframe tbody tr th {\n",
       "        vertical-align: top;\n",
       "    }\n",
       "\n",
       "    .dataframe thead th {\n",
       "        text-align: right;\n",
       "    }\n",
       "</style>\n",
       "<table border=\"1\" class=\"dataframe\">\n",
       "  <thead>\n",
       "    <tr style=\"text-align: right;\">\n",
       "      <th></th>\n",
       "      <th>ID Pelanggan</th>\n",
       "      <th>Nama</th>\n",
       "      <th>Jenis Kelamin</th>\n",
       "      <th>Pendapatan</th>\n",
       "      <th>Produk</th>\n",
       "      <th>Harga</th>\n",
       "      <th>Jumlah</th>\n",
       "      <th>Total</th>\n",
       "      <th>Tingkat Kepuasan</th>\n",
       "    </tr>\n",
       "  </thead>\n",
       "  <tbody>\n",
       "    <tr>\n",
       "      <th>0</th>\n",
       "      <td>False</td>\n",
       "      <td>False</td>\n",
       "      <td>False</td>\n",
       "      <td>False</td>\n",
       "      <td>False</td>\n",
       "      <td>False</td>\n",
       "      <td>False</td>\n",
       "      <td>False</td>\n",
       "      <td>False</td>\n",
       "    </tr>\n",
       "    <tr>\n",
       "      <th>1</th>\n",
       "      <td>False</td>\n",
       "      <td>False</td>\n",
       "      <td>False</td>\n",
       "      <td>False</td>\n",
       "      <td>False</td>\n",
       "      <td>False</td>\n",
       "      <td>False</td>\n",
       "      <td>False</td>\n",
       "      <td>False</td>\n",
       "    </tr>\n",
       "    <tr>\n",
       "      <th>2</th>\n",
       "      <td>False</td>\n",
       "      <td>False</td>\n",
       "      <td>False</td>\n",
       "      <td>False</td>\n",
       "      <td>False</td>\n",
       "      <td>False</td>\n",
       "      <td>False</td>\n",
       "      <td>False</td>\n",
       "      <td>False</td>\n",
       "    </tr>\n",
       "    <tr>\n",
       "      <th>3</th>\n",
       "      <td>False</td>\n",
       "      <td>False</td>\n",
       "      <td>False</td>\n",
       "      <td>False</td>\n",
       "      <td>False</td>\n",
       "      <td>False</td>\n",
       "      <td>False</td>\n",
       "      <td>False</td>\n",
       "      <td>False</td>\n",
       "    </tr>\n",
       "    <tr>\n",
       "      <th>4</th>\n",
       "      <td>False</td>\n",
       "      <td>False</td>\n",
       "      <td>False</td>\n",
       "      <td>False</td>\n",
       "      <td>False</td>\n",
       "      <td>False</td>\n",
       "      <td>False</td>\n",
       "      <td>False</td>\n",
       "      <td>False</td>\n",
       "    </tr>\n",
       "    <tr>\n",
       "      <th>5</th>\n",
       "      <td>False</td>\n",
       "      <td>False</td>\n",
       "      <td>False</td>\n",
       "      <td>False</td>\n",
       "      <td>False</td>\n",
       "      <td>False</td>\n",
       "      <td>False</td>\n",
       "      <td>False</td>\n",
       "      <td>False</td>\n",
       "    </tr>\n",
       "    <tr>\n",
       "      <th>6</th>\n",
       "      <td>False</td>\n",
       "      <td>False</td>\n",
       "      <td>False</td>\n",
       "      <td>False</td>\n",
       "      <td>False</td>\n",
       "      <td>False</td>\n",
       "      <td>False</td>\n",
       "      <td>False</td>\n",
       "      <td>False</td>\n",
       "    </tr>\n",
       "    <tr>\n",
       "      <th>7</th>\n",
       "      <td>False</td>\n",
       "      <td>False</td>\n",
       "      <td>False</td>\n",
       "      <td>False</td>\n",
       "      <td>False</td>\n",
       "      <td>False</td>\n",
       "      <td>False</td>\n",
       "      <td>False</td>\n",
       "      <td>False</td>\n",
       "    </tr>\n",
       "    <tr>\n",
       "      <th>8</th>\n",
       "      <td>False</td>\n",
       "      <td>False</td>\n",
       "      <td>False</td>\n",
       "      <td>False</td>\n",
       "      <td>False</td>\n",
       "      <td>False</td>\n",
       "      <td>False</td>\n",
       "      <td>False</td>\n",
       "      <td>False</td>\n",
       "    </tr>\n",
       "    <tr>\n",
       "      <th>9</th>\n",
       "      <td>False</td>\n",
       "      <td>False</td>\n",
       "      <td>False</td>\n",
       "      <td>False</td>\n",
       "      <td>False</td>\n",
       "      <td>False</td>\n",
       "      <td>False</td>\n",
       "      <td>False</td>\n",
       "      <td>False</td>\n",
       "    </tr>\n",
       "    <tr>\n",
       "      <th>10</th>\n",
       "      <td>False</td>\n",
       "      <td>False</td>\n",
       "      <td>False</td>\n",
       "      <td>False</td>\n",
       "      <td>False</td>\n",
       "      <td>False</td>\n",
       "      <td>False</td>\n",
       "      <td>False</td>\n",
       "      <td>False</td>\n",
       "    </tr>\n",
       "    <tr>\n",
       "      <th>11</th>\n",
       "      <td>False</td>\n",
       "      <td>False</td>\n",
       "      <td>False</td>\n",
       "      <td>False</td>\n",
       "      <td>False</td>\n",
       "      <td>False</td>\n",
       "      <td>False</td>\n",
       "      <td>False</td>\n",
       "      <td>False</td>\n",
       "    </tr>\n",
       "    <tr>\n",
       "      <th>12</th>\n",
       "      <td>False</td>\n",
       "      <td>False</td>\n",
       "      <td>False</td>\n",
       "      <td>False</td>\n",
       "      <td>False</td>\n",
       "      <td>False</td>\n",
       "      <td>False</td>\n",
       "      <td>False</td>\n",
       "      <td>False</td>\n",
       "    </tr>\n",
       "    <tr>\n",
       "      <th>13</th>\n",
       "      <td>False</td>\n",
       "      <td>False</td>\n",
       "      <td>False</td>\n",
       "      <td>False</td>\n",
       "      <td>False</td>\n",
       "      <td>False</td>\n",
       "      <td>False</td>\n",
       "      <td>False</td>\n",
       "      <td>False</td>\n",
       "    </tr>\n",
       "    <tr>\n",
       "      <th>14</th>\n",
       "      <td>False</td>\n",
       "      <td>False</td>\n",
       "      <td>False</td>\n",
       "      <td>False</td>\n",
       "      <td>False</td>\n",
       "      <td>False</td>\n",
       "      <td>False</td>\n",
       "      <td>False</td>\n",
       "      <td>False</td>\n",
       "    </tr>\n",
       "    <tr>\n",
       "      <th>15</th>\n",
       "      <td>False</td>\n",
       "      <td>False</td>\n",
       "      <td>False</td>\n",
       "      <td>False</td>\n",
       "      <td>False</td>\n",
       "      <td>False</td>\n",
       "      <td>False</td>\n",
       "      <td>False</td>\n",
       "      <td>False</td>\n",
       "    </tr>\n",
       "    <tr>\n",
       "      <th>16</th>\n",
       "      <td>False</td>\n",
       "      <td>False</td>\n",
       "      <td>False</td>\n",
       "      <td>False</td>\n",
       "      <td>False</td>\n",
       "      <td>False</td>\n",
       "      <td>False</td>\n",
       "      <td>False</td>\n",
       "      <td>False</td>\n",
       "    </tr>\n",
       "    <tr>\n",
       "      <th>17</th>\n",
       "      <td>False</td>\n",
       "      <td>False</td>\n",
       "      <td>False</td>\n",
       "      <td>False</td>\n",
       "      <td>False</td>\n",
       "      <td>False</td>\n",
       "      <td>False</td>\n",
       "      <td>False</td>\n",
       "      <td>False</td>\n",
       "    </tr>\n",
       "    <tr>\n",
       "      <th>18</th>\n",
       "      <td>False</td>\n",
       "      <td>False</td>\n",
       "      <td>False</td>\n",
       "      <td>False</td>\n",
       "      <td>False</td>\n",
       "      <td>False</td>\n",
       "      <td>False</td>\n",
       "      <td>False</td>\n",
       "      <td>False</td>\n",
       "    </tr>\n",
       "    <tr>\n",
       "      <th>19</th>\n",
       "      <td>False</td>\n",
       "      <td>False</td>\n",
       "      <td>False</td>\n",
       "      <td>False</td>\n",
       "      <td>False</td>\n",
       "      <td>False</td>\n",
       "      <td>False</td>\n",
       "      <td>False</td>\n",
       "      <td>False</td>\n",
       "    </tr>\n",
       "  </tbody>\n",
       "</table>\n",
       "</div>"
      ],
      "text/plain": [
       "    ID Pelanggan   Nama  Jenis Kelamin  Pendapatan  Produk  Harga  Jumlah   \\\n",
       "0          False  False          False       False   False  False    False   \n",
       "1          False  False          False       False   False  False    False   \n",
       "2          False  False          False       False   False  False    False   \n",
       "3          False  False          False       False   False  False    False   \n",
       "4          False  False          False       False   False  False    False   \n",
       "5          False  False          False       False   False  False    False   \n",
       "6          False  False          False       False   False  False    False   \n",
       "7          False  False          False       False   False  False    False   \n",
       "8          False  False          False       False   False  False    False   \n",
       "9          False  False          False       False   False  False    False   \n",
       "10         False  False          False       False   False  False    False   \n",
       "11         False  False          False       False   False  False    False   \n",
       "12         False  False          False       False   False  False    False   \n",
       "13         False  False          False       False   False  False    False   \n",
       "14         False  False          False       False   False  False    False   \n",
       "15         False  False          False       False   False  False    False   \n",
       "16         False  False          False       False   False  False    False   \n",
       "17         False  False          False       False   False  False    False   \n",
       "18         False  False          False       False   False  False    False   \n",
       "19         False  False          False       False   False  False    False   \n",
       "\n",
       "    Total  Tingkat Kepuasan  \n",
       "0   False             False  \n",
       "1   False             False  \n",
       "2   False             False  \n",
       "3   False             False  \n",
       "4   False             False  \n",
       "5   False             False  \n",
       "6   False             False  \n",
       "7   False             False  \n",
       "8   False             False  \n",
       "9   False             False  \n",
       "10  False             False  \n",
       "11  False             False  \n",
       "12  False             False  \n",
       "13  False             False  \n",
       "14  False             False  \n",
       "15  False             False  \n",
       "16  False             False  \n",
       "17  False             False  \n",
       "18  False             False  \n",
       "19  False             False  "
      ]
     },
     "metadata": {},
     "output_type": "display_data"
    }
   ],
   "source": [
    "display(raw_data.isna())"
   ]
  },
  {
   "cell_type": "code",
   "execution_count": 7,
   "metadata": {},
   "outputs": [
    {
     "data": {
      "text/plain": [
       "ID Pelanggan        0\n",
       "Nama                0\n",
       "Jenis Kelamin       0\n",
       "Pendapatan          0\n",
       "Produk              0\n",
       "Harga               0\n",
       "Jumlah              0\n",
       "Total               0\n",
       "Tingkat Kepuasan    0\n",
       "dtype: int64"
      ]
     },
     "metadata": {},
     "output_type": "display_data"
    }
   ],
   "source": [
    "display(raw_data.isna().sum())"
   ]
  },
  {
   "cell_type": "markdown",
   "metadata": {},
   "source": [
    "## Describe Methods"
   ]
  },
  {
   "cell_type": "code",
   "execution_count": 8,
   "metadata": {},
   "outputs": [
    {
     "data": {
      "text/html": [
       "<div>\n",
       "<style scoped>\n",
       "    .dataframe tbody tr th:only-of-type {\n",
       "        vertical-align: middle;\n",
       "    }\n",
       "\n",
       "    .dataframe tbody tr th {\n",
       "        vertical-align: top;\n",
       "    }\n",
       "\n",
       "    .dataframe thead th {\n",
       "        text-align: right;\n",
       "    }\n",
       "</style>\n",
       "<table border=\"1\" class=\"dataframe\">\n",
       "  <thead>\n",
       "    <tr style=\"text-align: right;\">\n",
       "      <th></th>\n",
       "      <th>ID Pelanggan</th>\n",
       "      <th>Jenis Kelamin</th>\n",
       "      <th>Pendapatan</th>\n",
       "      <th>Harga</th>\n",
       "      <th>Jumlah</th>\n",
       "      <th>Total</th>\n",
       "      <th>Tingkat Kepuasan</th>\n",
       "    </tr>\n",
       "  </thead>\n",
       "  <tbody>\n",
       "    <tr>\n",
       "      <th>count</th>\n",
       "      <td>20.00000</td>\n",
       "      <td>20.000000</td>\n",
       "      <td>2.000000e+01</td>\n",
       "      <td>20.000000</td>\n",
       "      <td>20.000000</td>\n",
       "      <td>2.000000e+01</td>\n",
       "      <td>20.000000</td>\n",
       "    </tr>\n",
       "    <tr>\n",
       "      <th>mean</th>\n",
       "      <td>10.50000</td>\n",
       "      <td>1.700000</td>\n",
       "      <td>1.160000e+06</td>\n",
       "      <td>197500.000000</td>\n",
       "      <td>3.650000</td>\n",
       "      <td>7.100000e+05</td>\n",
       "      <td>2.050000</td>\n",
       "    </tr>\n",
       "    <tr>\n",
       "      <th>std</th>\n",
       "      <td>5.91608</td>\n",
       "      <td>0.470162</td>\n",
       "      <td>1.282842e+06</td>\n",
       "      <td>69726.910912</td>\n",
       "      <td>1.182103</td>\n",
       "      <td>3.338768e+05</td>\n",
       "      <td>0.887041</td>\n",
       "    </tr>\n",
       "    <tr>\n",
       "      <th>min</th>\n",
       "      <td>1.00000</td>\n",
       "      <td>1.000000</td>\n",
       "      <td>4.000000e+05</td>\n",
       "      <td>100000.000000</td>\n",
       "      <td>1.000000</td>\n",
       "      <td>2.000000e+05</td>\n",
       "      <td>1.000000</td>\n",
       "    </tr>\n",
       "    <tr>\n",
       "      <th>25%</th>\n",
       "      <td>5.75000</td>\n",
       "      <td>1.000000</td>\n",
       "      <td>6.750000e+05</td>\n",
       "      <td>150000.000000</td>\n",
       "      <td>3.000000</td>\n",
       "      <td>4.750000e+05</td>\n",
       "      <td>1.000000</td>\n",
       "    </tr>\n",
       "    <tr>\n",
       "      <th>50%</th>\n",
       "      <td>10.50000</td>\n",
       "      <td>2.000000</td>\n",
       "      <td>8.750000e+05</td>\n",
       "      <td>200000.000000</td>\n",
       "      <td>4.000000</td>\n",
       "      <td>6.750000e+05</td>\n",
       "      <td>2.000000</td>\n",
       "    </tr>\n",
       "    <tr>\n",
       "      <th>75%</th>\n",
       "      <td>15.25000</td>\n",
       "      <td>2.000000</td>\n",
       "      <td>1.125000e+06</td>\n",
       "      <td>250000.000000</td>\n",
       "      <td>4.250000</td>\n",
       "      <td>9.250000e+05</td>\n",
       "      <td>3.000000</td>\n",
       "    </tr>\n",
       "    <tr>\n",
       "      <th>max</th>\n",
       "      <td>20.00000</td>\n",
       "      <td>2.000000</td>\n",
       "      <td>6.450000e+06</td>\n",
       "      <td>300000.000000</td>\n",
       "      <td>5.000000</td>\n",
       "      <td>1.500000e+06</td>\n",
       "      <td>3.000000</td>\n",
       "    </tr>\n",
       "  </tbody>\n",
       "</table>\n",
       "</div>"
      ],
      "text/plain": [
       "       ID Pelanggan  Jenis Kelamin    Pendapatan          Harga    Jumlah   \\\n",
       "count      20.00000      20.000000  2.000000e+01      20.000000  20.000000   \n",
       "mean       10.50000       1.700000  1.160000e+06  197500.000000   3.650000   \n",
       "std         5.91608       0.470162  1.282842e+06   69726.910912   1.182103   \n",
       "min         1.00000       1.000000  4.000000e+05  100000.000000   1.000000   \n",
       "25%         5.75000       1.000000  6.750000e+05  150000.000000   3.000000   \n",
       "50%        10.50000       2.000000  8.750000e+05  200000.000000   4.000000   \n",
       "75%        15.25000       2.000000  1.125000e+06  250000.000000   4.250000   \n",
       "max        20.00000       2.000000  6.450000e+06  300000.000000   5.000000   \n",
       "\n",
       "              Total  Tingkat Kepuasan  \n",
       "count  2.000000e+01         20.000000  \n",
       "mean   7.100000e+05          2.050000  \n",
       "std    3.338768e+05          0.887041  \n",
       "min    2.000000e+05          1.000000  \n",
       "25%    4.750000e+05          1.000000  \n",
       "50%    6.750000e+05          2.000000  \n",
       "75%    9.250000e+05          3.000000  \n",
       "max    1.500000e+06          3.000000  "
      ]
     },
     "metadata": {},
     "output_type": "display_data"
    },
    {
     "data": {
      "text/plain": [
       "ID Pelanggan             20\n",
       "Nama                  Wahyu\n",
       "Jenis Kelamin             2\n",
       "Pendapatan          6450000\n",
       "Produk                    E\n",
       "Harga                300000\n",
       "Jumlah                    5\n",
       "Total               1500000\n",
       "Tingkat Kepuasan          3\n",
       "dtype: object"
      ]
     },
     "metadata": {},
     "output_type": "display_data"
    }
   ],
   "source": [
    "display(raw_data.describe())\n",
    "display(raw_data.max())"
   ]
  },
  {
   "cell_type": "code",
   "execution_count": 9,
   "metadata": {},
   "outputs": [
    {
     "data": {
      "text/plain": [
       "300000"
      ]
     },
     "metadata": {},
     "output_type": "display_data"
    },
    {
     "data": {
      "text/plain": [
       "100000"
      ]
     },
     "metadata": {},
     "output_type": "display_data"
    }
   ],
   "source": [
    "display(raw_data[\"Harga\"].max())\n",
    "display(raw_data[\"Harga\"].min())"
   ]
  },
  {
   "cell_type": "markdown",
   "metadata": {},
   "source": [
    "## Sum Methods"
   ]
  },
  {
   "cell_type": "code",
   "execution_count": 10,
   "metadata": {},
   "outputs": [
    {
     "data": {
      "text/plain": [
       "ID Pelanggan                                                      210\n",
       "Nama                ArifDianDindaFajarIkaIlhamIndraKartikaLestariL...\n",
       "Jenis Kelamin                                                      34\n",
       "Pendapatan                                                   23200000\n",
       "Produk                                           ADDADBBEEEABCDCBCDAC\n",
       "Harga                                                         3950000\n",
       "Jumlah                                                             73\n",
       "Total                                                        14200000\n",
       "Tingkat Kepuasan                                                   41\n",
       "dtype: object"
      ]
     },
     "metadata": {},
     "output_type": "display_data"
    }
   ],
   "source": [
    "display(raw_data.sum())"
   ]
  },
  {
   "cell_type": "code",
   "execution_count": 11,
   "metadata": {},
   "outputs": [
    {
     "data": {
      "text/plain": [
       "ID Pelanggan             210\n",
       "Jenis Kelamin             34\n",
       "Pendapatan          23200000\n",
       "Harga                3950000\n",
       "Jumlah                    73\n",
       "Total               14200000\n",
       "Tingkat Kepuasan          41\n",
       "dtype: int64"
      ]
     },
     "metadata": {},
     "output_type": "display_data"
    }
   ],
   "source": [
    "display(raw_data.sum(numeric_only=True))"
   ]
  },
  {
   "cell_type": "code",
   "execution_count": 12,
   "metadata": {},
   "outputs": [
    {
     "data": {
      "text/plain": [
       "Harga          3950000\n",
       "Pendapatan    23200000\n",
       "dtype: int64"
      ]
     },
     "metadata": {},
     "output_type": "display_data"
    }
   ],
   "source": [
    "display(raw_data[[\"Harga\",\"Pendapatan\"]].sum())"
   ]
  },
  {
   "cell_type": "markdown",
   "metadata": {},
   "source": [
    "## Dataframe Manipulations : Choice Certains Column & Row"
   ]
  },
  {
   "cell_type": "code",
   "execution_count": 13,
   "metadata": {},
   "outputs": [
    {
     "data": {
      "text/plain": [
       "0      600000\n",
       "1     1200000\n",
       "2      950000\n",
       "3      400000\n",
       "4     1200000\n",
       "5      800000\n",
       "6      950000\n",
       "7     1100000\n",
       "8      800000\n",
       "9     1700000\n",
       "10     600000\n",
       "11     950000\n",
       "12     400000\n",
       "13    6450000\n",
       "14    1000000\n",
       "15     800000\n",
       "16    1200000\n",
       "17     700000\n",
       "18     600000\n",
       "19     800000\n",
       "Name: Pendapatan, dtype: int64"
      ]
     },
     "metadata": {},
     "output_type": "display_data"
    }
   ],
   "source": [
    "display(raw_data[\"Pendapatan\"])"
   ]
  },
  {
   "cell_type": "code",
   "execution_count": 14,
   "metadata": {},
   "outputs": [
    {
     "data": {
      "text/html": [
       "<div>\n",
       "<style scoped>\n",
       "    .dataframe tbody tr th:only-of-type {\n",
       "        vertical-align: middle;\n",
       "    }\n",
       "\n",
       "    .dataframe tbody tr th {\n",
       "        vertical-align: top;\n",
       "    }\n",
       "\n",
       "    .dataframe thead th {\n",
       "        text-align: right;\n",
       "    }\n",
       "</style>\n",
       "<table border=\"1\" class=\"dataframe\">\n",
       "  <thead>\n",
       "    <tr style=\"text-align: right;\">\n",
       "      <th></th>\n",
       "      <th>Jenis Kelamin</th>\n",
       "      <th>Pendapatan</th>\n",
       "    </tr>\n",
       "  </thead>\n",
       "  <tbody>\n",
       "    <tr>\n",
       "      <th>0</th>\n",
       "      <td>1</td>\n",
       "      <td>600000</td>\n",
       "    </tr>\n",
       "    <tr>\n",
       "      <th>1</th>\n",
       "      <td>2</td>\n",
       "      <td>1200000</td>\n",
       "    </tr>\n",
       "    <tr>\n",
       "      <th>2</th>\n",
       "      <td>2</td>\n",
       "      <td>950000</td>\n",
       "    </tr>\n",
       "    <tr>\n",
       "      <th>3</th>\n",
       "      <td>1</td>\n",
       "      <td>400000</td>\n",
       "    </tr>\n",
       "    <tr>\n",
       "      <th>4</th>\n",
       "      <td>2</td>\n",
       "      <td>1200000</td>\n",
       "    </tr>\n",
       "    <tr>\n",
       "      <th>5</th>\n",
       "      <td>1</td>\n",
       "      <td>800000</td>\n",
       "    </tr>\n",
       "    <tr>\n",
       "      <th>6</th>\n",
       "      <td>1</td>\n",
       "      <td>950000</td>\n",
       "    </tr>\n",
       "    <tr>\n",
       "      <th>7</th>\n",
       "      <td>2</td>\n",
       "      <td>1100000</td>\n",
       "    </tr>\n",
       "    <tr>\n",
       "      <th>8</th>\n",
       "      <td>2</td>\n",
       "      <td>800000</td>\n",
       "    </tr>\n",
       "    <tr>\n",
       "      <th>9</th>\n",
       "      <td>2</td>\n",
       "      <td>1700000</td>\n",
       "    </tr>\n",
       "    <tr>\n",
       "      <th>10</th>\n",
       "      <td>2</td>\n",
       "      <td>600000</td>\n",
       "    </tr>\n",
       "    <tr>\n",
       "      <th>11</th>\n",
       "      <td>2</td>\n",
       "      <td>950000</td>\n",
       "    </tr>\n",
       "    <tr>\n",
       "      <th>12</th>\n",
       "      <td>2</td>\n",
       "      <td>400000</td>\n",
       "    </tr>\n",
       "    <tr>\n",
       "      <th>13</th>\n",
       "      <td>2</td>\n",
       "      <td>6450000</td>\n",
       "    </tr>\n",
       "    <tr>\n",
       "      <th>14</th>\n",
       "      <td>2</td>\n",
       "      <td>1000000</td>\n",
       "    </tr>\n",
       "    <tr>\n",
       "      <th>15</th>\n",
       "      <td>2</td>\n",
       "      <td>800000</td>\n",
       "    </tr>\n",
       "    <tr>\n",
       "      <th>16</th>\n",
       "      <td>1</td>\n",
       "      <td>1200000</td>\n",
       "    </tr>\n",
       "    <tr>\n",
       "      <th>17</th>\n",
       "      <td>2</td>\n",
       "      <td>700000</td>\n",
       "    </tr>\n",
       "    <tr>\n",
       "      <th>18</th>\n",
       "      <td>2</td>\n",
       "      <td>600000</td>\n",
       "    </tr>\n",
       "    <tr>\n",
       "      <th>19</th>\n",
       "      <td>1</td>\n",
       "      <td>800000</td>\n",
       "    </tr>\n",
       "  </tbody>\n",
       "</table>\n",
       "</div>"
      ],
      "text/plain": [
       "    Jenis Kelamin  Pendapatan\n",
       "0               1      600000\n",
       "1               2     1200000\n",
       "2               2      950000\n",
       "3               1      400000\n",
       "4               2     1200000\n",
       "5               1      800000\n",
       "6               1      950000\n",
       "7               2     1100000\n",
       "8               2      800000\n",
       "9               2     1700000\n",
       "10              2      600000\n",
       "11              2      950000\n",
       "12              2      400000\n",
       "13              2     6450000\n",
       "14              2     1000000\n",
       "15              2      800000\n",
       "16              1     1200000\n",
       "17              2      700000\n",
       "18              2      600000\n",
       "19              1      800000"
      ]
     },
     "metadata": {},
     "output_type": "display_data"
    }
   ],
   "source": [
    "display(raw_data[[\"Jenis Kelamin\",\"Pendapatan\"]])"
   ]
  },
  {
   "cell_type": "markdown",
   "metadata": {},
   "source": [
    "## Loc Methods"
   ]
  },
  {
   "cell_type": "code",
   "execution_count": 15,
   "metadata": {},
   "outputs": [
    {
     "data": {
      "text/html": [
       "<div>\n",
       "<style scoped>\n",
       "    .dataframe tbody tr th:only-of-type {\n",
       "        vertical-align: middle;\n",
       "    }\n",
       "\n",
       "    .dataframe tbody tr th {\n",
       "        vertical-align: top;\n",
       "    }\n",
       "\n",
       "    .dataframe thead th {\n",
       "        text-align: right;\n",
       "    }\n",
       "</style>\n",
       "<table border=\"1\" class=\"dataframe\">\n",
       "  <thead>\n",
       "    <tr style=\"text-align: right;\">\n",
       "      <th></th>\n",
       "      <th>ID Pelanggan</th>\n",
       "      <th>Nama</th>\n",
       "      <th>Jenis Kelamin</th>\n",
       "      <th>Pendapatan</th>\n",
       "      <th>Produk</th>\n",
       "      <th>Harga</th>\n",
       "      <th>Jumlah</th>\n",
       "      <th>Total</th>\n",
       "      <th>Tingkat Kepuasan</th>\n",
       "    </tr>\n",
       "  </thead>\n",
       "  <tbody>\n",
       "    <tr>\n",
       "      <th>0</th>\n",
       "      <td>1</td>\n",
       "      <td>Arif</td>\n",
       "      <td>1</td>\n",
       "      <td>600000</td>\n",
       "      <td>A</td>\n",
       "      <td>100000</td>\n",
       "      <td>4</td>\n",
       "      <td>400000</td>\n",
       "      <td>2</td>\n",
       "    </tr>\n",
       "    <tr>\n",
       "      <th>1</th>\n",
       "      <td>2</td>\n",
       "      <td>Dian</td>\n",
       "      <td>2</td>\n",
       "      <td>1200000</td>\n",
       "      <td>D</td>\n",
       "      <td>250000</td>\n",
       "      <td>4</td>\n",
       "      <td>1000000</td>\n",
       "      <td>2</td>\n",
       "    </tr>\n",
       "    <tr>\n",
       "      <th>2</th>\n",
       "      <td>3</td>\n",
       "      <td>Dinda</td>\n",
       "      <td>2</td>\n",
       "      <td>950000</td>\n",
       "      <td>D</td>\n",
       "      <td>250000</td>\n",
       "      <td>3</td>\n",
       "      <td>750000</td>\n",
       "      <td>3</td>\n",
       "    </tr>\n",
       "    <tr>\n",
       "      <th>3</th>\n",
       "      <td>4</td>\n",
       "      <td>Fajar</td>\n",
       "      <td>1</td>\n",
       "      <td>400000</td>\n",
       "      <td>A</td>\n",
       "      <td>100000</td>\n",
       "      <td>2</td>\n",
       "      <td>200000</td>\n",
       "      <td>3</td>\n",
       "    </tr>\n",
       "    <tr>\n",
       "      <th>4</th>\n",
       "      <td>5</td>\n",
       "      <td>Ika</td>\n",
       "      <td>2</td>\n",
       "      <td>1200000</td>\n",
       "      <td>D</td>\n",
       "      <td>250000</td>\n",
       "      <td>4</td>\n",
       "      <td>1000000</td>\n",
       "      <td>2</td>\n",
       "    </tr>\n",
       "    <tr>\n",
       "      <th>5</th>\n",
       "      <td>6</td>\n",
       "      <td>Ilham</td>\n",
       "      <td>1</td>\n",
       "      <td>800000</td>\n",
       "      <td>B</td>\n",
       "      <td>150000</td>\n",
       "      <td>4</td>\n",
       "      <td>600000</td>\n",
       "      <td>3</td>\n",
       "    </tr>\n",
       "    <tr>\n",
       "      <th>6</th>\n",
       "      <td>7</td>\n",
       "      <td>Indra</td>\n",
       "      <td>1</td>\n",
       "      <td>950000</td>\n",
       "      <td>B</td>\n",
       "      <td>150000</td>\n",
       "      <td>5</td>\n",
       "      <td>750000</td>\n",
       "      <td>1</td>\n",
       "    </tr>\n",
       "    <tr>\n",
       "      <th>7</th>\n",
       "      <td>8</td>\n",
       "      <td>Kartika</td>\n",
       "      <td>2</td>\n",
       "      <td>1100000</td>\n",
       "      <td>E</td>\n",
       "      <td>300000</td>\n",
       "      <td>3</td>\n",
       "      <td>900000</td>\n",
       "      <td>3</td>\n",
       "    </tr>\n",
       "    <tr>\n",
       "      <th>8</th>\n",
       "      <td>9</td>\n",
       "      <td>Lestari</td>\n",
       "      <td>2</td>\n",
       "      <td>800000</td>\n",
       "      <td>E</td>\n",
       "      <td>300000</td>\n",
       "      <td>2</td>\n",
       "      <td>600000</td>\n",
       "      <td>1</td>\n",
       "    </tr>\n",
       "    <tr>\n",
       "      <th>9</th>\n",
       "      <td>10</td>\n",
       "      <td>Lia</td>\n",
       "      <td>2</td>\n",
       "      <td>1700000</td>\n",
       "      <td>E</td>\n",
       "      <td>300000</td>\n",
       "      <td>5</td>\n",
       "      <td>1500000</td>\n",
       "      <td>1</td>\n",
       "    </tr>\n",
       "  </tbody>\n",
       "</table>\n",
       "</div>"
      ],
      "text/plain": [
       "   ID Pelanggan     Nama  Jenis Kelamin  Pendapatan Produk   Harga  Jumlah   \\\n",
       "0             1     Arif              1      600000      A  100000        4   \n",
       "1             2     Dian              2     1200000      D  250000        4   \n",
       "2             3    Dinda              2      950000      D  250000        3   \n",
       "3             4    Fajar              1      400000      A  100000        2   \n",
       "4             5      Ika              2     1200000      D  250000        4   \n",
       "5             6    Ilham              1      800000      B  150000        4   \n",
       "6             7    Indra              1      950000      B  150000        5   \n",
       "7             8  Kartika              2     1100000      E  300000        3   \n",
       "8             9  Lestari              2      800000      E  300000        2   \n",
       "9            10      Lia              2     1700000      E  300000        5   \n",
       "\n",
       "     Total  Tingkat Kepuasan  \n",
       "0   400000                 2  \n",
       "1  1000000                 2  \n",
       "2   750000                 3  \n",
       "3   200000                 3  \n",
       "4  1000000                 2  \n",
       "5   600000                 3  \n",
       "6   750000                 1  \n",
       "7   900000                 3  \n",
       "8   600000                 1  \n",
       "9  1500000                 1  "
      ]
     },
     "metadata": {},
     "output_type": "display_data"
    }
   ],
   "source": [
    "display(raw_data[:10])"
   ]
  },
  {
   "cell_type": "code",
   "execution_count": 16,
   "metadata": {},
   "outputs": [
    {
     "data": {
      "text/html": [
       "<div>\n",
       "<style scoped>\n",
       "    .dataframe tbody tr th:only-of-type {\n",
       "        vertical-align: middle;\n",
       "    }\n",
       "\n",
       "    .dataframe tbody tr th {\n",
       "        vertical-align: top;\n",
       "    }\n",
       "\n",
       "    .dataframe thead th {\n",
       "        text-align: right;\n",
       "    }\n",
       "</style>\n",
       "<table border=\"1\" class=\"dataframe\">\n",
       "  <thead>\n",
       "    <tr style=\"text-align: right;\">\n",
       "      <th></th>\n",
       "      <th>ID Pelanggan</th>\n",
       "      <th>Nama</th>\n",
       "      <th>Jenis Kelamin</th>\n",
       "      <th>Pendapatan</th>\n",
       "      <th>Produk</th>\n",
       "      <th>Harga</th>\n",
       "      <th>Jumlah</th>\n",
       "      <th>Total</th>\n",
       "      <th>Tingkat Kepuasan</th>\n",
       "    </tr>\n",
       "  </thead>\n",
       "  <tbody>\n",
       "    <tr>\n",
       "      <th>3</th>\n",
       "      <td>4</td>\n",
       "      <td>Fajar</td>\n",
       "      <td>1</td>\n",
       "      <td>400000</td>\n",
       "      <td>A</td>\n",
       "      <td>100000</td>\n",
       "      <td>2</td>\n",
       "      <td>200000</td>\n",
       "      <td>3</td>\n",
       "    </tr>\n",
       "    <tr>\n",
       "      <th>4</th>\n",
       "      <td>5</td>\n",
       "      <td>Ika</td>\n",
       "      <td>2</td>\n",
       "      <td>1200000</td>\n",
       "      <td>D</td>\n",
       "      <td>250000</td>\n",
       "      <td>4</td>\n",
       "      <td>1000000</td>\n",
       "      <td>2</td>\n",
       "    </tr>\n",
       "  </tbody>\n",
       "</table>\n",
       "</div>"
      ],
      "text/plain": [
       "   ID Pelanggan   Nama  Jenis Kelamin  Pendapatan Produk   Harga  Jumlah   \\\n",
       "3             4  Fajar              1      400000      A  100000        2   \n",
       "4             5    Ika              2     1200000      D  250000        4   \n",
       "\n",
       "     Total  Tingkat Kepuasan  \n",
       "3   200000                 3  \n",
       "4  1000000                 2  "
      ]
     },
     "metadata": {},
     "output_type": "display_data"
    }
   ],
   "source": [
    "display(raw_data[3:5])"
   ]
  },
  {
   "cell_type": "code",
   "execution_count": 17,
   "metadata": {},
   "outputs": [
    {
     "data": {
      "text/html": [
       "<div>\n",
       "<style scoped>\n",
       "    .dataframe tbody tr th:only-of-type {\n",
       "        vertical-align: middle;\n",
       "    }\n",
       "\n",
       "    .dataframe tbody tr th {\n",
       "        vertical-align: top;\n",
       "    }\n",
       "\n",
       "    .dataframe thead th {\n",
       "        text-align: right;\n",
       "    }\n",
       "</style>\n",
       "<table border=\"1\" class=\"dataframe\">\n",
       "  <thead>\n",
       "    <tr style=\"text-align: right;\">\n",
       "      <th></th>\n",
       "      <th>ID Pelanggan</th>\n",
       "      <th>Nama</th>\n",
       "      <th>Jenis Kelamin</th>\n",
       "      <th>Pendapatan</th>\n",
       "      <th>Produk</th>\n",
       "      <th>Harga</th>\n",
       "      <th>Jumlah</th>\n",
       "      <th>Total</th>\n",
       "      <th>Tingkat Kepuasan</th>\n",
       "    </tr>\n",
       "  </thead>\n",
       "  <tbody>\n",
       "    <tr>\n",
       "      <th>1</th>\n",
       "      <td>2</td>\n",
       "      <td>Dian</td>\n",
       "      <td>2</td>\n",
       "      <td>1200000</td>\n",
       "      <td>D</td>\n",
       "      <td>250000</td>\n",
       "      <td>4</td>\n",
       "      <td>1000000</td>\n",
       "      <td>2</td>\n",
       "    </tr>\n",
       "  </tbody>\n",
       "</table>\n",
       "</div>"
      ],
      "text/plain": [
       "   ID Pelanggan  Nama  Jenis Kelamin  Pendapatan Produk   Harga  Jumlah   \\\n",
       "1             2  Dian              2     1200000      D  250000        4   \n",
       "\n",
       "     Total  Tingkat Kepuasan  \n",
       "1  1000000                 2  "
      ]
     },
     "metadata": {},
     "output_type": "display_data"
    }
   ],
   "source": [
    "display(raw_data.loc[[1]])"
   ]
  },
  {
   "cell_type": "code",
   "execution_count": 18,
   "metadata": {},
   "outputs": [
    {
     "data": {
      "text/html": [
       "<div>\n",
       "<style scoped>\n",
       "    .dataframe tbody tr th:only-of-type {\n",
       "        vertical-align: middle;\n",
       "    }\n",
       "\n",
       "    .dataframe tbody tr th {\n",
       "        vertical-align: top;\n",
       "    }\n",
       "\n",
       "    .dataframe thead th {\n",
       "        text-align: right;\n",
       "    }\n",
       "</style>\n",
       "<table border=\"1\" class=\"dataframe\">\n",
       "  <thead>\n",
       "    <tr style=\"text-align: right;\">\n",
       "      <th></th>\n",
       "      <th>ID Pelanggan</th>\n",
       "      <th>Nama</th>\n",
       "      <th>Jenis Kelamin</th>\n",
       "      <th>Pendapatan</th>\n",
       "      <th>Produk</th>\n",
       "      <th>Harga</th>\n",
       "      <th>Jumlah</th>\n",
       "      <th>Total</th>\n",
       "      <th>Tingkat Kepuasan</th>\n",
       "    </tr>\n",
       "  </thead>\n",
       "  <tbody>\n",
       "    <tr>\n",
       "      <th>1</th>\n",
       "      <td>2</td>\n",
       "      <td>Dian</td>\n",
       "      <td>2</td>\n",
       "      <td>1200000</td>\n",
       "      <td>D</td>\n",
       "      <td>250000</td>\n",
       "      <td>4</td>\n",
       "      <td>1000000</td>\n",
       "      <td>2</td>\n",
       "    </tr>\n",
       "    <tr>\n",
       "      <th>3</th>\n",
       "      <td>4</td>\n",
       "      <td>Fajar</td>\n",
       "      <td>1</td>\n",
       "      <td>400000</td>\n",
       "      <td>A</td>\n",
       "      <td>100000</td>\n",
       "      <td>2</td>\n",
       "      <td>200000</td>\n",
       "      <td>3</td>\n",
       "    </tr>\n",
       "    <tr>\n",
       "      <th>10</th>\n",
       "      <td>11</td>\n",
       "      <td>Maria</td>\n",
       "      <td>2</td>\n",
       "      <td>600000</td>\n",
       "      <td>A</td>\n",
       "      <td>100000</td>\n",
       "      <td>4</td>\n",
       "      <td>400000</td>\n",
       "      <td>3</td>\n",
       "    </tr>\n",
       "  </tbody>\n",
       "</table>\n",
       "</div>"
      ],
      "text/plain": [
       "    ID Pelanggan   Nama  Jenis Kelamin  Pendapatan Produk   Harga  Jumlah   \\\n",
       "1              2   Dian              2     1200000      D  250000        4   \n",
       "3              4  Fajar              1      400000      A  100000        2   \n",
       "10            11  Maria              2      600000      A  100000        4   \n",
       "\n",
       "      Total  Tingkat Kepuasan  \n",
       "1   1000000                 2  \n",
       "3    200000                 3  \n",
       "10   400000                 3  "
      ]
     },
     "metadata": {},
     "output_type": "display_data"
    }
   ],
   "source": [
    "display(raw_data.loc[[1, 3, 10]])"
   ]
  },
  {
   "cell_type": "code",
   "execution_count": 19,
   "metadata": {},
   "outputs": [
    {
     "data": {
      "text/html": [
       "<div>\n",
       "<style scoped>\n",
       "    .dataframe tbody tr th:only-of-type {\n",
       "        vertical-align: middle;\n",
       "    }\n",
       "\n",
       "    .dataframe tbody tr th {\n",
       "        vertical-align: top;\n",
       "    }\n",
       "\n",
       "    .dataframe thead th {\n",
       "        text-align: right;\n",
       "    }\n",
       "</style>\n",
       "<table border=\"1\" class=\"dataframe\">\n",
       "  <thead>\n",
       "    <tr style=\"text-align: right;\">\n",
       "      <th></th>\n",
       "      <th>Jenis Kelamin</th>\n",
       "      <th>Pendapatan</th>\n",
       "    </tr>\n",
       "  </thead>\n",
       "  <tbody>\n",
       "    <tr>\n",
       "      <th>1</th>\n",
       "      <td>2</td>\n",
       "      <td>1200000</td>\n",
       "    </tr>\n",
       "    <tr>\n",
       "      <th>2</th>\n",
       "      <td>2</td>\n",
       "      <td>950000</td>\n",
       "    </tr>\n",
       "    <tr>\n",
       "      <th>3</th>\n",
       "      <td>1</td>\n",
       "      <td>400000</td>\n",
       "    </tr>\n",
       "    <tr>\n",
       "      <th>4</th>\n",
       "      <td>2</td>\n",
       "      <td>1200000</td>\n",
       "    </tr>\n",
       "    <tr>\n",
       "      <th>5</th>\n",
       "      <td>1</td>\n",
       "      <td>800000</td>\n",
       "    </tr>\n",
       "    <tr>\n",
       "      <th>6</th>\n",
       "      <td>1</td>\n",
       "      <td>950000</td>\n",
       "    </tr>\n",
       "    <tr>\n",
       "      <th>7</th>\n",
       "      <td>2</td>\n",
       "      <td>1100000</td>\n",
       "    </tr>\n",
       "    <tr>\n",
       "      <th>8</th>\n",
       "      <td>2</td>\n",
       "      <td>800000</td>\n",
       "    </tr>\n",
       "    <tr>\n",
       "      <th>9</th>\n",
       "      <td>2</td>\n",
       "      <td>1700000</td>\n",
       "    </tr>\n",
       "  </tbody>\n",
       "</table>\n",
       "</div>"
      ],
      "text/plain": [
       "   Jenis Kelamin  Pendapatan\n",
       "1              2     1200000\n",
       "2              2      950000\n",
       "3              1      400000\n",
       "4              2     1200000\n",
       "5              1      800000\n",
       "6              1      950000\n",
       "7              2     1100000\n",
       "8              2      800000\n",
       "9              2     1700000"
      ]
     },
     "metadata": {},
     "output_type": "display_data"
    }
   ],
   "source": [
    "display(raw_data[[\"Jenis Kelamin\",\"Pendapatan\"]][1:10])"
   ]
  },
  {
   "cell_type": "code",
   "execution_count": 20,
   "metadata": {},
   "outputs": [
    {
     "data": {
      "text/html": [
       "<div>\n",
       "<style scoped>\n",
       "    .dataframe tbody tr th:only-of-type {\n",
       "        vertical-align: middle;\n",
       "    }\n",
       "\n",
       "    .dataframe tbody tr th {\n",
       "        vertical-align: top;\n",
       "    }\n",
       "\n",
       "    .dataframe thead th {\n",
       "        text-align: right;\n",
       "    }\n",
       "</style>\n",
       "<table border=\"1\" class=\"dataframe\">\n",
       "  <thead>\n",
       "    <tr style=\"text-align: right;\">\n",
       "      <th></th>\n",
       "      <th>Harga</th>\n",
       "      <th>Tingkat Kepuasan</th>\n",
       "    </tr>\n",
       "  </thead>\n",
       "  <tbody>\n",
       "    <tr>\n",
       "      <th>1</th>\n",
       "      <td>250000</td>\n",
       "      <td>2</td>\n",
       "    </tr>\n",
       "    <tr>\n",
       "      <th>10</th>\n",
       "      <td>100000</td>\n",
       "      <td>3</td>\n",
       "    </tr>\n",
       "    <tr>\n",
       "      <th>15</th>\n",
       "      <td>150000</td>\n",
       "      <td>1</td>\n",
       "    </tr>\n",
       "  </tbody>\n",
       "</table>\n",
       "</div>"
      ],
      "text/plain": [
       "     Harga  Tingkat Kepuasan\n",
       "1   250000                 2\n",
       "10  100000                 3\n",
       "15  150000                 1"
      ]
     },
     "metadata": {},
     "output_type": "display_data"
    }
   ],
   "source": [
    "display(raw_data[[\"Harga\",\"Tingkat Kepuasan\"]].loc[[1, 10, 15]])"
   ]
  },
  {
   "cell_type": "markdown",
   "metadata": {},
   "source": [
    "# Measures of Central Tendency"
   ]
  },
  {
   "cell_type": "markdown",
   "metadata": {},
   "source": [
    "## Mean Methods"
   ]
  },
  {
   "cell_type": "code",
   "execution_count": 21,
   "metadata": {},
   "outputs": [
    {
     "data": {
      "text/html": [
       "<div>\n",
       "<style scoped>\n",
       "    .dataframe tbody tr th:only-of-type {\n",
       "        vertical-align: middle;\n",
       "    }\n",
       "\n",
       "    .dataframe tbody tr th {\n",
       "        vertical-align: top;\n",
       "    }\n",
       "\n",
       "    .dataframe thead th {\n",
       "        text-align: right;\n",
       "    }\n",
       "</style>\n",
       "<table border=\"1\" class=\"dataframe\">\n",
       "  <thead>\n",
       "    <tr style=\"text-align: right;\">\n",
       "      <th></th>\n",
       "      <th>ID Pelanggan</th>\n",
       "      <th>Nama</th>\n",
       "      <th>Jenis Kelamin</th>\n",
       "      <th>Pendapatan</th>\n",
       "      <th>Produk</th>\n",
       "      <th>Harga</th>\n",
       "      <th>Jumlah</th>\n",
       "      <th>Total</th>\n",
       "      <th>Tingkat Kepuasan</th>\n",
       "    </tr>\n",
       "  </thead>\n",
       "  <tbody>\n",
       "    <tr>\n",
       "      <th>0</th>\n",
       "      <td>1</td>\n",
       "      <td>Arif</td>\n",
       "      <td>1</td>\n",
       "      <td>600000</td>\n",
       "      <td>A</td>\n",
       "      <td>100000</td>\n",
       "      <td>4</td>\n",
       "      <td>400000</td>\n",
       "      <td>2</td>\n",
       "    </tr>\n",
       "    <tr>\n",
       "      <th>3</th>\n",
       "      <td>4</td>\n",
       "      <td>Fajar</td>\n",
       "      <td>1</td>\n",
       "      <td>400000</td>\n",
       "      <td>A</td>\n",
       "      <td>100000</td>\n",
       "      <td>2</td>\n",
       "      <td>200000</td>\n",
       "      <td>3</td>\n",
       "    </tr>\n",
       "    <tr>\n",
       "      <th>10</th>\n",
       "      <td>11</td>\n",
       "      <td>Maria</td>\n",
       "      <td>2</td>\n",
       "      <td>600000</td>\n",
       "      <td>A</td>\n",
       "      <td>100000</td>\n",
       "      <td>4</td>\n",
       "      <td>400000</td>\n",
       "      <td>3</td>\n",
       "    </tr>\n",
       "    <tr>\n",
       "      <th>18</th>\n",
       "      <td>19</td>\n",
       "      <td>Tyas</td>\n",
       "      <td>2</td>\n",
       "      <td>600000</td>\n",
       "      <td>A</td>\n",
       "      <td>100000</td>\n",
       "      <td>4</td>\n",
       "      <td>400000</td>\n",
       "      <td>3</td>\n",
       "    </tr>\n",
       "  </tbody>\n",
       "</table>\n",
       "</div>"
      ],
      "text/plain": [
       "    ID Pelanggan   Nama  Jenis Kelamin  Pendapatan Produk   Harga  Jumlah   \\\n",
       "0              1   Arif              1      600000      A  100000        4   \n",
       "3              4  Fajar              1      400000      A  100000        2   \n",
       "10            11  Maria              2      600000      A  100000        4   \n",
       "18            19   Tyas              2      600000      A  100000        4   \n",
       "\n",
       "     Total  Tingkat Kepuasan  \n",
       "0   400000                 2  \n",
       "3   200000                 3  \n",
       "10  400000                 3  \n",
       "18  400000                 3  "
      ]
     },
     "metadata": {},
     "output_type": "display_data"
    }
   ],
   "source": [
    "produk_A = raw_data[raw_data[\"Produk\"] == \"A\"]\n",
    "display(produk_A)"
   ]
  },
  {
   "cell_type": "code",
   "execution_count": 22,
   "metadata": {},
   "outputs": [
    {
     "name": "stdout",
     "output_type": "stream",
     "text": [
      "550000.0\n"
     ]
    }
   ],
   "source": [
    "print(produk_A[\"Pendapatan\"].mean())"
   ]
  },
  {
   "cell_type": "code",
   "execution_count": 23,
   "metadata": {},
   "outputs": [
    {
     "name": "stdout",
     "output_type": "stream",
     "text": [
      "550000.0\n"
     ]
    }
   ],
   "source": [
    "print(np.mean(produk_A[\"Pendapatan\"]))"
   ]
  },
  {
   "cell_type": "markdown",
   "metadata": {},
   "source": [
    "## Median Methods"
   ]
  },
  {
   "cell_type": "code",
   "execution_count": 24,
   "metadata": {},
   "outputs": [
    {
     "name": "stdout",
     "output_type": "stream",
     "text": [
      "600000.0\n"
     ]
    }
   ],
   "source": [
    "print(produk_A[\"Pendapatan\"].median())"
   ]
  },
  {
   "cell_type": "code",
   "execution_count": 25,
   "metadata": {},
   "outputs": [
    {
     "name": "stdout",
     "output_type": "stream",
     "text": [
      "600000.0\n"
     ]
    }
   ],
   "source": [
    "print(np.median(produk_A[\"Pendapatan\"]))"
   ]
  },
  {
   "cell_type": "markdown",
   "metadata": {},
   "source": [
    "## Modus Methods"
   ]
  },
  {
   "cell_type": "code",
   "execution_count": 26,
   "metadata": {},
   "outputs": [
    {
     "name": "stdout",
     "output_type": "stream",
     "text": [
      "600000    3\n",
      "400000    1\n",
      "Name: Pendapatan, dtype: int64\n"
     ]
    }
   ],
   "source": [
    "print(produk_A[\"Pendapatan\"].value_counts())"
   ]
  },
  {
   "cell_type": "markdown",
   "metadata": {},
   "source": [
    "## Quantile Methods"
   ]
  },
  {
   "cell_type": "code",
   "execution_count": 27,
   "metadata": {},
   "outputs": [
    {
     "name": "stdout",
     "output_type": "stream",
     "text": [
      "675000.0\n",
      "875000.0\n",
      "1125000.0\n"
     ]
    }
   ],
   "source": [
    "print(raw_data[\"Pendapatan\"].quantile(0.25))\n",
    "print(raw_data[\"Pendapatan\"].quantile(0.50))\n",
    "print(raw_data[\"Pendapatan\"].quantile(0.75))"
   ]
  },
  {
   "cell_type": "code",
   "execution_count": 28,
   "metadata": {},
   "outputs": [
    {
     "name": "stdout",
     "output_type": "stream",
     "text": [
      "875000.0\n"
     ]
    }
   ],
   "source": [
    "print(np.quantile(raw_data[\"Pendapatan\"], q=0.5))"
   ]
  },
  {
   "cell_type": "markdown",
   "metadata": {},
   "source": [
    "## Data Aggregations with Agg Methods"
   ]
  },
  {
   "cell_type": "code",
   "execution_count": 29,
   "metadata": {},
   "outputs": [
    {
     "data": {
      "text/html": [
       "<div>\n",
       "<style scoped>\n",
       "    .dataframe tbody tr th:only-of-type {\n",
       "        vertical-align: middle;\n",
       "    }\n",
       "\n",
       "    .dataframe tbody tr th {\n",
       "        vertical-align: top;\n",
       "    }\n",
       "\n",
       "    .dataframe thead th {\n",
       "        text-align: right;\n",
       "    }\n",
       "</style>\n",
       "<table border=\"1\" class=\"dataframe\">\n",
       "  <thead>\n",
       "    <tr style=\"text-align: right;\">\n",
       "      <th></th>\n",
       "      <th>Pendapatan</th>\n",
       "      <th>Harga</th>\n",
       "    </tr>\n",
       "  </thead>\n",
       "  <tbody>\n",
       "    <tr>\n",
       "      <th>mean</th>\n",
       "      <td>1160000.0</td>\n",
       "      <td>197500.0</td>\n",
       "    </tr>\n",
       "    <tr>\n",
       "      <th>median</th>\n",
       "      <td>875000.0</td>\n",
       "      <td>200000.0</td>\n",
       "    </tr>\n",
       "  </tbody>\n",
       "</table>\n",
       "</div>"
      ],
      "text/plain": [
       "        Pendapatan     Harga\n",
       "mean     1160000.0  197500.0\n",
       "median    875000.0  200000.0"
      ]
     },
     "metadata": {},
     "output_type": "display_data"
    }
   ],
   "source": [
    "display(raw_data[[\"Pendapatan\",\"Harga\"]].agg([\"mean\",\"median\"]))"
   ]
  },
  {
   "cell_type": "code",
   "execution_count": 30,
   "metadata": {},
   "outputs": [
    {
     "data": {
      "text/html": [
       "<div>\n",
       "<style scoped>\n",
       "    .dataframe tbody tr th:only-of-type {\n",
       "        vertical-align: middle;\n",
       "    }\n",
       "\n",
       "    .dataframe tbody tr th {\n",
       "        vertical-align: top;\n",
       "    }\n",
       "\n",
       "    .dataframe thead tr th {\n",
       "        text-align: left;\n",
       "    }\n",
       "\n",
       "    .dataframe thead tr:last-of-type th {\n",
       "        text-align: right;\n",
       "    }\n",
       "</style>\n",
       "<table border=\"1\" class=\"dataframe\">\n",
       "  <thead>\n",
       "    <tr>\n",
       "      <th></th>\n",
       "      <th colspan=\"2\" halign=\"left\">Pendapatan</th>\n",
       "      <th colspan=\"2\" halign=\"left\">Harga</th>\n",
       "    </tr>\n",
       "    <tr>\n",
       "      <th></th>\n",
       "      <th>mean</th>\n",
       "      <th>median</th>\n",
       "      <th>mean</th>\n",
       "      <th>median</th>\n",
       "    </tr>\n",
       "    <tr>\n",
       "      <th>Produk</th>\n",
       "      <th></th>\n",
       "      <th></th>\n",
       "      <th></th>\n",
       "      <th></th>\n",
       "    </tr>\n",
       "  </thead>\n",
       "  <tbody>\n",
       "    <tr>\n",
       "      <th>A</th>\n",
       "      <td>550000.0</td>\n",
       "      <td>600000.0</td>\n",
       "      <td>100000.0</td>\n",
       "      <td>100000.0</td>\n",
       "    </tr>\n",
       "    <tr>\n",
       "      <th>B</th>\n",
       "      <td>875000.0</td>\n",
       "      <td>875000.0</td>\n",
       "      <td>150000.0</td>\n",
       "      <td>150000.0</td>\n",
       "    </tr>\n",
       "    <tr>\n",
       "      <th>C</th>\n",
       "      <td>850000.0</td>\n",
       "      <td>900000.0</td>\n",
       "      <td>200000.0</td>\n",
       "      <td>200000.0</td>\n",
       "    </tr>\n",
       "    <tr>\n",
       "      <th>D</th>\n",
       "      <td>2100000.0</td>\n",
       "      <td>1200000.0</td>\n",
       "      <td>250000.0</td>\n",
       "      <td>250000.0</td>\n",
       "    </tr>\n",
       "    <tr>\n",
       "      <th>E</th>\n",
       "      <td>1200000.0</td>\n",
       "      <td>1100000.0</td>\n",
       "      <td>300000.0</td>\n",
       "      <td>300000.0</td>\n",
       "    </tr>\n",
       "  </tbody>\n",
       "</table>\n",
       "</div>"
      ],
      "text/plain": [
       "       Pendapatan                Harga          \n",
       "             mean     median      mean    median\n",
       "Produk                                          \n",
       "A        550000.0   600000.0  100000.0  100000.0\n",
       "B        875000.0   875000.0  150000.0  150000.0\n",
       "C        850000.0   900000.0  200000.0  200000.0\n",
       "D       2100000.0  1200000.0  250000.0  250000.0\n",
       "E       1200000.0  1100000.0  300000.0  300000.0"
      ]
     },
     "metadata": {},
     "output_type": "display_data"
    }
   ],
   "source": [
    "display(raw_data.groupby([\"Produk\"])[[\"Pendapatan\",\"Harga\"]].agg([\"mean\",\"median\"]))"
   ]
  },
  {
   "cell_type": "code",
   "execution_count": 31,
   "metadata": {},
   "outputs": [
    {
     "data": {
      "text/html": [
       "<div>\n",
       "<style scoped>\n",
       "    .dataframe tbody tr th:only-of-type {\n",
       "        vertical-align: middle;\n",
       "    }\n",
       "\n",
       "    .dataframe tbody tr th {\n",
       "        vertical-align: top;\n",
       "    }\n",
       "\n",
       "    .dataframe thead th {\n",
       "        text-align: right;\n",
       "    }\n",
       "</style>\n",
       "<table border=\"1\" class=\"dataframe\">\n",
       "  <thead>\n",
       "    <tr style=\"text-align: right;\">\n",
       "      <th></th>\n",
       "      <th>Pendapatan</th>\n",
       "      <th>Harga</th>\n",
       "    </tr>\n",
       "    <tr>\n",
       "      <th>Produk</th>\n",
       "      <th></th>\n",
       "      <th></th>\n",
       "    </tr>\n",
       "  </thead>\n",
       "  <tbody>\n",
       "    <tr>\n",
       "      <th>A</th>\n",
       "      <td>550000.0</td>\n",
       "      <td>100000.0</td>\n",
       "    </tr>\n",
       "    <tr>\n",
       "      <th>B</th>\n",
       "      <td>875000.0</td>\n",
       "      <td>150000.0</td>\n",
       "    </tr>\n",
       "    <tr>\n",
       "      <th>C</th>\n",
       "      <td>850000.0</td>\n",
       "      <td>200000.0</td>\n",
       "    </tr>\n",
       "    <tr>\n",
       "      <th>D</th>\n",
       "      <td>2100000.0</td>\n",
       "      <td>250000.0</td>\n",
       "    </tr>\n",
       "    <tr>\n",
       "      <th>E</th>\n",
       "      <td>1200000.0</td>\n",
       "      <td>300000.0</td>\n",
       "    </tr>\n",
       "  </tbody>\n",
       "</table>\n",
       "</div>"
      ],
      "text/plain": [
       "        Pendapatan     Harga\n",
       "Produk                      \n",
       "A         550000.0  100000.0\n",
       "B         875000.0  150000.0\n",
       "C         850000.0  200000.0\n",
       "D        2100000.0  250000.0\n",
       "E        1200000.0  300000.0"
      ]
     },
     "metadata": {},
     "output_type": "display_data"
    }
   ],
   "source": [
    "display(raw_data.groupby([\"Produk\"])[[\"Pendapatan\",\"Harga\"]].agg({\n",
    "                                                                  \"Pendapatan\":\"mean\",\n",
    "                                                                  \"Harga\":\"mean\"\n",
    "                                                                }))"
   ]
  },
  {
   "cell_type": "markdown",
   "metadata": {},
   "source": [
    "# Measures of Dispersion"
   ]
  },
  {
   "cell_type": "markdown",
   "metadata": {},
   "source": [
    "## Categorical Proportional"
   ]
  },
  {
   "cell_type": "code",
   "execution_count": 32,
   "metadata": {},
   "outputs": [
    {
     "name": "stdout",
     "output_type": "stream",
     "text": [
      "D    5\n",
      "A    4\n",
      "B    4\n",
      "C    4\n",
      "E    3\n",
      "Name: Produk, dtype: int64\n"
     ]
    }
   ],
   "source": [
    "print(raw_data[\"Produk\"].value_counts())"
   ]
  },
  {
   "cell_type": "code",
   "execution_count": 33,
   "metadata": {},
   "outputs": [
    {
     "name": "stdout",
     "output_type": "stream",
     "text": [
      "D    0.25\n",
      "A    0.20\n",
      "B    0.20\n",
      "C    0.20\n",
      "E    0.15\n",
      "Name: Produk, dtype: float64\n"
     ]
    }
   ],
   "source": [
    "print(raw_data[\"Produk\"].value_counts()/raw_data.shape[0])"
   ]
  },
  {
   "cell_type": "markdown",
   "metadata": {},
   "source": [
    "## Range"
   ]
  },
  {
   "cell_type": "code",
   "execution_count": 34,
   "metadata": {},
   "outputs": [
    {
     "name": "stdout",
     "output_type": "stream",
     "text": [
      "6050000\n"
     ]
    }
   ],
   "source": [
    "print(raw_data[\"Pendapatan\"].max() - raw_data[\"Pendapatan\"].min())"
   ]
  },
  {
   "cell_type": "markdown",
   "metadata": {},
   "source": [
    "## Variance"
   ]
  },
  {
   "cell_type": "code",
   "execution_count": 35,
   "metadata": {},
   "outputs": [
    {
     "name": "stdout",
     "output_type": "stream",
     "text": [
      "1645684210526.3157\n",
      "1563400000000.0\n",
      "1563400000000.0\n"
     ]
    }
   ],
   "source": [
    "print(raw_data[\"Pendapatan\"].var())\n",
    "print(np.var(raw_data[\"Pendapatan\"]))\n",
    "print(raw_data[\"Pendapatan\"].var(ddof=0))"
   ]
  },
  {
   "cell_type": "markdown",
   "metadata": {},
   "source": [
    "## Standard Deviation"
   ]
  },
  {
   "cell_type": "code",
   "execution_count": 36,
   "metadata": {},
   "outputs": [
    {
     "name": "stdout",
     "output_type": "stream",
     "text": [
      "1282842.2391417876\n",
      "1282842.2391417876\n",
      "1250359.9481749246\n",
      "1250359.9481749246\n"
     ]
    }
   ],
   "source": [
    "print(raw_data[\"Pendapatan\"].std())\n",
    "print(np.std(raw_data[\"Pendapatan\"], ddof=1))\n",
    "print(raw_data[\"Pendapatan\"].std(ddof=0))\n",
    "print(np.std(raw_data[\"Pendapatan\"], ddof=0))"
   ]
  },
  {
   "cell_type": "markdown",
   "metadata": {},
   "source": [
    "# Correlation"
   ]
  },
  {
   "cell_type": "markdown",
   "metadata": {},
   "source": [
    "## Calculating Correlation"
   ]
  },
  {
   "cell_type": "code",
   "execution_count": 37,
   "metadata": {},
   "outputs": [
    {
     "data": {
      "text/html": [
       "<div>\n",
       "<style scoped>\n",
       "    .dataframe tbody tr th:only-of-type {\n",
       "        vertical-align: middle;\n",
       "    }\n",
       "\n",
       "    .dataframe tbody tr th {\n",
       "        vertical-align: top;\n",
       "    }\n",
       "\n",
       "    .dataframe thead th {\n",
       "        text-align: right;\n",
       "    }\n",
       "</style>\n",
       "<table border=\"1\" class=\"dataframe\">\n",
       "  <thead>\n",
       "    <tr style=\"text-align: right;\">\n",
       "      <th></th>\n",
       "      <th>ID Pelanggan</th>\n",
       "      <th>Jenis Kelamin</th>\n",
       "      <th>Pendapatan</th>\n",
       "      <th>Harga</th>\n",
       "      <th>Jumlah</th>\n",
       "      <th>Total</th>\n",
       "      <th>Tingkat Kepuasan</th>\n",
       "    </tr>\n",
       "  </thead>\n",
       "  <tbody>\n",
       "    <tr>\n",
       "      <th>ID Pelanggan</th>\n",
       "      <td>1.000000</td>\n",
       "      <td>0.151375</td>\n",
       "      <td>0.110958</td>\n",
       "      <td>-0.028707</td>\n",
       "      <td>0.011289</td>\n",
       "      <td>-0.039968</td>\n",
       "      <td>-0.245717</td>\n",
       "    </tr>\n",
       "    <tr>\n",
       "      <th>Jenis Kelamin</th>\n",
       "      <td>0.151375</td>\n",
       "      <td>1.000000</td>\n",
       "      <td>0.192849</td>\n",
       "      <td>0.457555</td>\n",
       "      <td>-0.104168</td>\n",
       "      <td>0.238051</td>\n",
       "      <td>-0.088339</td>\n",
       "    </tr>\n",
       "    <tr>\n",
       "      <th>Pendapatan</th>\n",
       "      <td>0.110958</td>\n",
       "      <td>0.192849</td>\n",
       "      <td>1.000000</td>\n",
       "      <td>0.322443</td>\n",
       "      <td>0.399825</td>\n",
       "      <td>0.592044</td>\n",
       "      <td>-0.312663</td>\n",
       "    </tr>\n",
       "    <tr>\n",
       "      <th>Harga</th>\n",
       "      <td>-0.028707</td>\n",
       "      <td>0.457555</td>\n",
       "      <td>0.322443</td>\n",
       "      <td>1.000000</td>\n",
       "      <td>-0.138883</td>\n",
       "      <td>0.645455</td>\n",
       "      <td>-0.380798</td>\n",
       "    </tr>\n",
       "    <tr>\n",
       "      <th>Jumlah</th>\n",
       "      <td>0.011289</td>\n",
       "      <td>-0.104168</td>\n",
       "      <td>0.399825</td>\n",
       "      <td>-0.138883</td>\n",
       "      <td>1.000000</td>\n",
       "      <td>0.636097</td>\n",
       "      <td>0.017568</td>\n",
       "    </tr>\n",
       "    <tr>\n",
       "      <th>Total</th>\n",
       "      <td>-0.039968</td>\n",
       "      <td>0.238051</td>\n",
       "      <td>0.592044</td>\n",
       "      <td>0.645455</td>\n",
       "      <td>0.636097</td>\n",
       "      <td>1.000000</td>\n",
       "      <td>-0.268345</td>\n",
       "    </tr>\n",
       "    <tr>\n",
       "      <th>Tingkat Kepuasan</th>\n",
       "      <td>-0.245717</td>\n",
       "      <td>-0.088339</td>\n",
       "      <td>-0.312663</td>\n",
       "      <td>-0.380798</td>\n",
       "      <td>0.017568</td>\n",
       "      <td>-0.268345</td>\n",
       "      <td>1.000000</td>\n",
       "    </tr>\n",
       "  </tbody>\n",
       "</table>\n",
       "</div>"
      ],
      "text/plain": [
       "                  ID Pelanggan  Jenis Kelamin  Pendapatan     Harga   Jumlah   \\\n",
       "ID Pelanggan          1.000000       0.151375    0.110958 -0.028707  0.011289   \n",
       "Jenis Kelamin         0.151375       1.000000    0.192849  0.457555 -0.104168   \n",
       "Pendapatan            0.110958       0.192849    1.000000  0.322443  0.399825   \n",
       "Harga                -0.028707       0.457555    0.322443  1.000000 -0.138883   \n",
       "Jumlah                0.011289      -0.104168    0.399825 -0.138883  1.000000   \n",
       "Total                -0.039968       0.238051    0.592044  0.645455  0.636097   \n",
       "Tingkat Kepuasan     -0.245717      -0.088339   -0.312663 -0.380798  0.017568   \n",
       "\n",
       "                     Total  Tingkat Kepuasan  \n",
       "ID Pelanggan     -0.039968         -0.245717  \n",
       "Jenis Kelamin     0.238051         -0.088339  \n",
       "Pendapatan        0.592044         -0.312663  \n",
       "Harga             0.645455         -0.380798  \n",
       "Jumlah            0.636097          0.017568  \n",
       "Total             1.000000         -0.268345  \n",
       "Tingkat Kepuasan -0.268345          1.000000  "
      ]
     },
     "metadata": {},
     "output_type": "display_data"
    },
    {
     "data": {
      "text/html": [
       "<div>\n",
       "<style scoped>\n",
       "    .dataframe tbody tr th:only-of-type {\n",
       "        vertical-align: middle;\n",
       "    }\n",
       "\n",
       "    .dataframe tbody tr th {\n",
       "        vertical-align: top;\n",
       "    }\n",
       "\n",
       "    .dataframe thead th {\n",
       "        text-align: right;\n",
       "    }\n",
       "</style>\n",
       "<table border=\"1\" class=\"dataframe\">\n",
       "  <thead>\n",
       "    <tr style=\"text-align: right;\">\n",
       "      <th></th>\n",
       "      <th>ID Pelanggan</th>\n",
       "      <th>Jenis Kelamin</th>\n",
       "      <th>Pendapatan</th>\n",
       "      <th>Harga</th>\n",
       "      <th>Jumlah</th>\n",
       "      <th>Total</th>\n",
       "      <th>Tingkat Kepuasan</th>\n",
       "    </tr>\n",
       "  </thead>\n",
       "  <tbody>\n",
       "    <tr>\n",
       "      <th>ID Pelanggan</th>\n",
       "      <td>1.000000</td>\n",
       "      <td>0.126650</td>\n",
       "      <td>-0.054998</td>\n",
       "      <td>-0.005753</td>\n",
       "      <td>0.024016</td>\n",
       "      <td>-0.065998</td>\n",
       "      <td>-0.183817</td>\n",
       "    </tr>\n",
       "    <tr>\n",
       "      <th>Jenis Kelamin</th>\n",
       "      <td>0.126650</td>\n",
       "      <td>1.000000</td>\n",
       "      <td>0.190245</td>\n",
       "      <td>0.415339</td>\n",
       "      <td>-0.090299</td>\n",
       "      <td>0.190245</td>\n",
       "      <td>-0.085796</td>\n",
       "    </tr>\n",
       "    <tr>\n",
       "      <th>Pendapatan</th>\n",
       "      <td>-0.054998</td>\n",
       "      <td>0.190245</td>\n",
       "      <td>1.000000</td>\n",
       "      <td>0.523053</td>\n",
       "      <td>0.501925</td>\n",
       "      <td>0.988506</td>\n",
       "      <td>-0.165588</td>\n",
       "    </tr>\n",
       "    <tr>\n",
       "      <th>Harga</th>\n",
       "      <td>-0.005753</td>\n",
       "      <td>0.415339</td>\n",
       "      <td>0.523053</td>\n",
       "      <td>1.000000</td>\n",
       "      <td>-0.098450</td>\n",
       "      <td>0.535078</td>\n",
       "      <td>-0.325659</td>\n",
       "    </tr>\n",
       "    <tr>\n",
       "      <th>Jumlah</th>\n",
       "      <td>0.024016</td>\n",
       "      <td>-0.090299</td>\n",
       "      <td>0.501925</td>\n",
       "      <td>-0.098450</td>\n",
       "      <td>1.000000</td>\n",
       "      <td>0.501925</td>\n",
       "      <td>-0.028923</td>\n",
       "    </tr>\n",
       "    <tr>\n",
       "      <th>Total</th>\n",
       "      <td>-0.065998</td>\n",
       "      <td>0.190245</td>\n",
       "      <td>0.988506</td>\n",
       "      <td>0.535078</td>\n",
       "      <td>0.501925</td>\n",
       "      <td>1.000000</td>\n",
       "      <td>-0.165588</td>\n",
       "    </tr>\n",
       "    <tr>\n",
       "      <th>Tingkat Kepuasan</th>\n",
       "      <td>-0.183817</td>\n",
       "      <td>-0.085796</td>\n",
       "      <td>-0.165588</td>\n",
       "      <td>-0.325659</td>\n",
       "      <td>-0.028923</td>\n",
       "      <td>-0.165588</td>\n",
       "      <td>1.000000</td>\n",
       "    </tr>\n",
       "  </tbody>\n",
       "</table>\n",
       "</div>"
      ],
      "text/plain": [
       "                  ID Pelanggan  Jenis Kelamin  Pendapatan     Harga   Jumlah   \\\n",
       "ID Pelanggan          1.000000       0.126650   -0.054998 -0.005753  0.024016   \n",
       "Jenis Kelamin         0.126650       1.000000    0.190245  0.415339 -0.090299   \n",
       "Pendapatan           -0.054998       0.190245    1.000000  0.523053  0.501925   \n",
       "Harga                -0.005753       0.415339    0.523053  1.000000 -0.098450   \n",
       "Jumlah                0.024016      -0.090299    0.501925 -0.098450  1.000000   \n",
       "Total                -0.065998       0.190245    0.988506  0.535078  0.501925   \n",
       "Tingkat Kepuasan     -0.183817      -0.085796   -0.165588 -0.325659 -0.028923   \n",
       "\n",
       "                     Total  Tingkat Kepuasan  \n",
       "ID Pelanggan     -0.065998         -0.183817  \n",
       "Jenis Kelamin     0.190245         -0.085796  \n",
       "Pendapatan        0.988506         -0.165588  \n",
       "Harga             0.535078         -0.325659  \n",
       "Jumlah            0.501925         -0.028923  \n",
       "Total             1.000000         -0.165588  \n",
       "Tingkat Kepuasan -0.165588          1.000000  "
      ]
     },
     "metadata": {},
     "output_type": "display_data"
    },
    {
     "data": {
      "text/html": [
       "<div>\n",
       "<style scoped>\n",
       "    .dataframe tbody tr th:only-of-type {\n",
       "        vertical-align: middle;\n",
       "    }\n",
       "\n",
       "    .dataframe tbody tr th {\n",
       "        vertical-align: top;\n",
       "    }\n",
       "\n",
       "    .dataframe thead th {\n",
       "        text-align: right;\n",
       "    }\n",
       "</style>\n",
       "<table border=\"1\" class=\"dataframe\">\n",
       "  <thead>\n",
       "    <tr style=\"text-align: right;\">\n",
       "      <th></th>\n",
       "      <th>ID Pelanggan</th>\n",
       "      <th>Jenis Kelamin</th>\n",
       "      <th>Pendapatan</th>\n",
       "      <th>Harga</th>\n",
       "      <th>Jumlah</th>\n",
       "      <th>Total</th>\n",
       "      <th>Tingkat Kepuasan</th>\n",
       "    </tr>\n",
       "  </thead>\n",
       "  <tbody>\n",
       "    <tr>\n",
       "      <th>ID Pelanggan</th>\n",
       "      <td>1.000000</td>\n",
       "      <td>0.151375</td>\n",
       "      <td>-0.063711</td>\n",
       "      <td>-0.039149</td>\n",
       "      <td>0.046356</td>\n",
       "      <td>-0.069779</td>\n",
       "      <td>-0.238890</td>\n",
       "    </tr>\n",
       "    <tr>\n",
       "      <th>Jenis Kelamin</th>\n",
       "      <td>0.151375</td>\n",
       "      <td>1.000000</td>\n",
       "      <td>0.219508</td>\n",
       "      <td>0.463635</td>\n",
       "      <td>-0.098864</td>\n",
       "      <td>0.219508</td>\n",
       "      <td>-0.090784</td>\n",
       "    </tr>\n",
       "    <tr>\n",
       "      <th>Pendapatan</th>\n",
       "      <td>-0.063711</td>\n",
       "      <td>0.219508</td>\n",
       "      <td>1.000000</td>\n",
       "      <td>0.640000</td>\n",
       "      <td>0.607110</td>\n",
       "      <td>0.998470</td>\n",
       "      <td>-0.192463</td>\n",
       "    </tr>\n",
       "    <tr>\n",
       "      <th>Harga</th>\n",
       "      <td>-0.039149</td>\n",
       "      <td>0.463635</td>\n",
       "      <td>0.640000</td>\n",
       "      <td>1.000000</td>\n",
       "      <td>-0.130749</td>\n",
       "      <td>0.646194</td>\n",
       "      <td>-0.378933</td>\n",
       "    </tr>\n",
       "    <tr>\n",
       "      <th>Jumlah</th>\n",
       "      <td>0.046356</td>\n",
       "      <td>-0.098864</td>\n",
       "      <td>0.607110</td>\n",
       "      <td>-0.130749</td>\n",
       "      <td>1.000000</td>\n",
       "      <td>0.607110</td>\n",
       "      <td>-0.023874</td>\n",
       "    </tr>\n",
       "    <tr>\n",
       "      <th>Total</th>\n",
       "      <td>-0.069779</td>\n",
       "      <td>0.219508</td>\n",
       "      <td>0.998470</td>\n",
       "      <td>0.646194</td>\n",
       "      <td>0.607110</td>\n",
       "      <td>1.000000</td>\n",
       "      <td>-0.192463</td>\n",
       "    </tr>\n",
       "    <tr>\n",
       "      <th>Tingkat Kepuasan</th>\n",
       "      <td>-0.238890</td>\n",
       "      <td>-0.090784</td>\n",
       "      <td>-0.192463</td>\n",
       "      <td>-0.378933</td>\n",
       "      <td>-0.023874</td>\n",
       "      <td>-0.192463</td>\n",
       "      <td>1.000000</td>\n",
       "    </tr>\n",
       "  </tbody>\n",
       "</table>\n",
       "</div>"
      ],
      "text/plain": [
       "                  ID Pelanggan  Jenis Kelamin  Pendapatan     Harga   Jumlah   \\\n",
       "ID Pelanggan          1.000000       0.151375   -0.063711 -0.039149  0.046356   \n",
       "Jenis Kelamin         0.151375       1.000000    0.219508  0.463635 -0.098864   \n",
       "Pendapatan           -0.063711       0.219508    1.000000  0.640000  0.607110   \n",
       "Harga                -0.039149       0.463635    0.640000  1.000000 -0.130749   \n",
       "Jumlah                0.046356      -0.098864    0.607110 -0.130749  1.000000   \n",
       "Total                -0.069779       0.219508    0.998470  0.646194  0.607110   \n",
       "Tingkat Kepuasan     -0.238890      -0.090784   -0.192463 -0.378933 -0.023874   \n",
       "\n",
       "                     Total  Tingkat Kepuasan  \n",
       "ID Pelanggan     -0.069779         -0.238890  \n",
       "Jenis Kelamin     0.219508         -0.090784  \n",
       "Pendapatan        0.998470         -0.192463  \n",
       "Harga             0.646194         -0.378933  \n",
       "Jumlah            0.607110         -0.023874  \n",
       "Total             1.000000         -0.192463  \n",
       "Tingkat Kepuasan -0.192463          1.000000  "
      ]
     },
     "metadata": {},
     "output_type": "display_data"
    }
   ],
   "source": [
    "raw_data_corr_pearson = raw_data.corr()\n",
    "raw_data_corr_kendall = raw_data.corr(method=\"kendall\")\n",
    "raw_data_corr_spearman = raw_data.corr(method=\"spearman\")\n",
    "display(raw_data_corr_pearson)\n",
    "display(raw_data_corr_kendall)\n",
    "display(raw_data_corr_spearman)"
   ]
  },
  {
   "cell_type": "code",
   "execution_count": 38,
   "metadata": {},
   "outputs": [
    {
     "data": {
      "image/png": "[encoded data removed]",
      "text/plain": [
       "<Figure size 1080x432 with 6 Axes>"
      ]
     },
     "metadata": {
      "needs_background": "light"
     },
     "output_type": "display_data"
    }
   ],
   "source": [
    "list_correlation = [raw_data_corr_pearson, raw_data_corr_kendall, raw_data_corr_spearman]\n",
    "cmap = sns.color_palette(\"bright\",as_cmap=True)\n",
    "fig, axs = plt.subplots(1, 3, figsize=(15, 6))\n",
    "fig.suptitle(\"Calculating Correlation for Each Correlation Methods\", fontsize=25, fontweight=\"bold\")\n",
    "for i, column in enumerate(list_correlation):\n",
    "    sns.heatmap(data=column, annot=True, ax=axs[i], cmap=cmap)\n",
    "plt.tight_layout()\n",
    "plt.show()"
   ]
  },
  {
   "cell_type": "markdown",
   "metadata": {},
   "source": [
    "# Data Visualization"
   ]
  },
  {
   "cell_type": "code",
   "execution_count": 39,
   "metadata": {},
   "outputs": [
    {
     "data": {
      "text/html": [
       "<div>\n",
       "<style scoped>\n",
       "    .dataframe tbody tr th:only-of-type {\n",
       "        vertical-align: middle;\n",
       "    }\n",
       "\n",
       "    .dataframe tbody tr th {\n",
       "        vertical-align: top;\n",
       "    }\n",
       "\n",
       "    .dataframe thead th {\n",
       "        text-align: right;\n",
       "    }\n",
       "</style>\n",
       "<table border=\"1\" class=\"dataframe\">\n",
       "  <thead>\n",
       "    <tr style=\"text-align: right;\">\n",
       "      <th></th>\n",
       "      <th>ID Pelanggan</th>\n",
       "      <th>Nama</th>\n",
       "      <th>Jenis Kelamin</th>\n",
       "      <th>Pendapatan</th>\n",
       "      <th>Produk</th>\n",
       "      <th>Harga</th>\n",
       "      <th>Jumlah</th>\n",
       "      <th>Total</th>\n",
       "      <th>Tingkat Kepuasan</th>\n",
       "    </tr>\n",
       "  </thead>\n",
       "  <tbody>\n",
       "    <tr>\n",
       "      <th>0</th>\n",
       "      <td>1</td>\n",
       "      <td>Arif</td>\n",
       "      <td>1</td>\n",
       "      <td>600000</td>\n",
       "      <td>A</td>\n",
       "      <td>100000</td>\n",
       "      <td>4</td>\n",
       "      <td>400000</td>\n",
       "      <td>2</td>\n",
       "    </tr>\n",
       "    <tr>\n",
       "      <th>1</th>\n",
       "      <td>2</td>\n",
       "      <td>Dian</td>\n",
       "      <td>2</td>\n",
       "      <td>1200000</td>\n",
       "      <td>D</td>\n",
       "      <td>250000</td>\n",
       "      <td>4</td>\n",
       "      <td>1000000</td>\n",
       "      <td>2</td>\n",
       "    </tr>\n",
       "    <tr>\n",
       "      <th>2</th>\n",
       "      <td>3</td>\n",
       "      <td>Dinda</td>\n",
       "      <td>2</td>\n",
       "      <td>950000</td>\n",
       "      <td>D</td>\n",
       "      <td>250000</td>\n",
       "      <td>3</td>\n",
       "      <td>750000</td>\n",
       "      <td>3</td>\n",
       "    </tr>\n",
       "    <tr>\n",
       "      <th>3</th>\n",
       "      <td>4</td>\n",
       "      <td>Fajar</td>\n",
       "      <td>1</td>\n",
       "      <td>400000</td>\n",
       "      <td>A</td>\n",
       "      <td>100000</td>\n",
       "      <td>2</td>\n",
       "      <td>200000</td>\n",
       "      <td>3</td>\n",
       "    </tr>\n",
       "    <tr>\n",
       "      <th>4</th>\n",
       "      <td>5</td>\n",
       "      <td>Ika</td>\n",
       "      <td>2</td>\n",
       "      <td>1200000</td>\n",
       "      <td>D</td>\n",
       "      <td>250000</td>\n",
       "      <td>4</td>\n",
       "      <td>1000000</td>\n",
       "      <td>2</td>\n",
       "    </tr>\n",
       "  </tbody>\n",
       "</table>\n",
       "</div>"
      ],
      "text/plain": [
       "   ID Pelanggan   Nama  Jenis Kelamin  Pendapatan Produk   Harga  Jumlah   \\\n",
       "0             1   Arif              1      600000      A  100000        4   \n",
       "1             2   Dian              2     1200000      D  250000        4   \n",
       "2             3  Dinda              2      950000      D  250000        3   \n",
       "3             4  Fajar              1      400000      A  100000        2   \n",
       "4             5    Ika              2     1200000      D  250000        4   \n",
       "\n",
       "     Total  Tingkat Kepuasan  \n",
       "0   400000                 2  \n",
       "1  1000000                 2  \n",
       "2   750000                 3  \n",
       "3   200000                 3  \n",
       "4  1000000                 2  "
      ]
     },
     "metadata": {},
     "output_type": "display_data"
    }
   ],
   "source": [
    "display(raw_data.head())"
   ]
  },
  {
   "cell_type": "markdown",
   "metadata": {},
   "source": [
    "## Scatter Plot"
   ]
  },
  {
   "cell_type": "code",
   "execution_count": 40,
   "metadata": {},
   "outputs": [
    {
     "data": {
      "image/png": "[encoded data removed]",
      "text/plain": [
       "<Figure size 1080x432 with 1 Axes>"
      ]
     },
     "metadata": {
      "needs_background": "light"
     },
     "output_type": "display_data"
    }
   ],
   "source": [
    "fig, axs = plt.subplots(figsize=(15, 6))\n",
    "sns.scatterplot(data=raw_data, x=\"Pendapatan\", y=\"Total\", ax=axs)\n",
    "axs.set_title(\"Correlation Betwen Income & Total of Price\", fontsize=20, fontweight=\"bold\", loc=\"left\", pad=20)\n",
    "axs.set_xticks(axs.get_xticks())\n",
    "axs.set_xticklabels(axs.get_xticks()/1000000)\n",
    "axs.set_xlabel(\"Income (in Millions)\", fontsize=15)\n",
    "axs.set_yticks(axs.get_yticks())\n",
    "axs.set_yticklabels(axs.get_yticks()/1000000)\n",
    "axs.set_ylabel(\"Total of Price (in Millions)\", fontsize=15)\n",
    "plt.tight_layout()\n",
    "plt.show()"
   ]
  },
  {
   "cell_type": "markdown",
   "metadata": {},
   "source": [
    "## Histogram Plot"
   ]
  },
  {
   "cell_type": "code",
   "execution_count": 41,
   "metadata": {},
   "outputs": [
    {
     "data": {
      "image/png": "[encoded data removed]",
      "text/plain": [
       "<Figure size 864x432 with 1 Axes>"
      ]
     },
     "metadata": {
      "needs_background": "light"
     },
     "output_type": "display_data"
    }
   ],
   "source": [
    "fig, axs = plt.subplots(figsize=(12, 6))\n",
    "sns.histplot(data=raw_data, x=\"Pendapatan\", kde=True, color=\"blue\", ax=axs)\n",
    "axs.set_title(\"Data Disribution of Income\", fontsize=20, fontweight=\"bold\")\n",
    "axs.set_xticks(axs.get_xticks())\n",
    "axs.set_xticklabels(axs.get_xticks()/1000000)\n",
    "axs.set_xlabel(\"Income\", fontsize=15)\n",
    "axs.set_ylabel(\"Count\", fontsize=15)\n",
    "plt.tight_layout()\n",
    "plt.show()"
   ]
  },
  {
   "cell_type": "markdown",
   "metadata": {},
   "source": [
    "## Boxplot & Whiskerplot"
   ]
  },
  {
   "cell_type": "code",
   "execution_count": 42,
   "metadata": {},
   "outputs": [
    {
     "data": {
      "image/png": "[encoded data removed]",
      "text/plain": [
       "<Figure size 936x432 with 1 Axes>"
      ]
     },
     "metadata": {
      "needs_background": "light"
     },
     "output_type": "display_data"
    }
   ],
   "source": [
    "fig, axs = plt.subplots(figsize=(13, 6))\n",
    "sns.boxplot(data=raw_data, x=\"Pendapatan\", ax=axs)\n",
    "axs.set_title(\"Data Distribution of Income\", fontsize=20, fontweight=\"bold\", loc=\"left\", pad=20)\n",
    "axs.set_xticks(axs.get_xticks())\n",
    "axs.set_xticklabels(axs.get_xticks()/1000000)\n",
    "axs.set_xlabel(\"Income\", fontsize=15)\n",
    "plt.tight_layout()\n",
    "plt.show()"
   ]
  },
  {
   "cell_type": "markdown",
   "metadata": {},
   "source": [
    "## Count Plot"
   ]
  },
  {
   "cell_type": "code",
   "execution_count": 43,
   "metadata": {},
   "outputs": [
    {
     "data": {
      "image/png": "[encoded data removed]",
      "text/plain": [
       "<Figure size 720x432 with 1 Axes>"
      ]
     },
     "metadata": {
      "needs_background": "light"
     },
     "output_type": "display_data"
    }
   ],
   "source": [
    "fig, axs = plt.subplots(figsize=(10, 6))\n",
    "sns.countplot(data=raw_data, x=\"Produk\", ax=axs)\n",
    "axs.set_title(\"Frequency of Products Data\", fontsize=20, fontweight=\"bold\")\n",
    "axs.set_xlabel(\"Products\", fontsize=15)\n",
    "axs.yaxis.set_visible(False)\n",
    "for p in axs.patches:\n",
    "    height=p.get_height()\n",
    "    width=p.get_width()\n",
    "    x=p.get_x()\n",
    "    y=p.get_y()\n",
    "    axs.annotate(\n",
    "                 height,\n",
    "                 xy=(x + width/2, height),\n",
    "                 ha=\"center\",\n",
    "                 va=\"center\",\n",
    "                 xytext=(0, 10),\n",
    "                 textcoords=\"offset points\"\n",
    "                )\n",
    "sns.despine(left=True, top=True, right=True)\n",
    "plt.tight_layout()\n",
    "plt.show()"
   ]
  },
  {
   "cell_type": "markdown",
   "metadata": {},
   "source": [
    "## Pie Plot"
   ]
  },
  {
   "cell_type": "code",
   "execution_count": 44,
   "metadata": {},
   "outputs": [
    {
     "data": {
      "text/html": [
       "<div>\n",
       "<style scoped>\n",
       "    .dataframe tbody tr th:only-of-type {\n",
       "        vertical-align: middle;\n",
       "    }\n",
       "\n",
       "    .dataframe tbody tr th {\n",
       "        vertical-align: top;\n",
       "    }\n",
       "\n",
       "    .dataframe thead th {\n",
       "        text-align: right;\n",
       "    }\n",
       "</style>\n",
       "<table border=\"1\" class=\"dataframe\">\n",
       "  <thead>\n",
       "    <tr style=\"text-align: right;\">\n",
       "      <th></th>\n",
       "      <th>Products</th>\n",
       "    </tr>\n",
       "    <tr>\n",
       "      <th>Produk</th>\n",
       "      <th></th>\n",
       "    </tr>\n",
       "  </thead>\n",
       "  <tbody>\n",
       "    <tr>\n",
       "      <th>A</th>\n",
       "      <td>4</td>\n",
       "    </tr>\n",
       "    <tr>\n",
       "      <th>B</th>\n",
       "      <td>4</td>\n",
       "    </tr>\n",
       "    <tr>\n",
       "      <th>C</th>\n",
       "      <td>4</td>\n",
       "    </tr>\n",
       "    <tr>\n",
       "      <th>D</th>\n",
       "      <td>5</td>\n",
       "    </tr>\n",
       "    <tr>\n",
       "      <th>E</th>\n",
       "      <td>3</td>\n",
       "    </tr>\n",
       "  </tbody>\n",
       "</table>\n",
       "</div>"
      ],
      "text/plain": [
       "        Products\n",
       "Produk          \n",
       "A              4\n",
       "B              4\n",
       "C              4\n",
       "D              5\n",
       "E              3"
      ]
     },
     "metadata": {},
     "output_type": "display_data"
    }
   ],
   "source": [
    "df_products = raw_data.groupby([\"Produk\"]).agg({\"Produk\":\"count\"}).rename(columns={\"Produk\":\"Products\"})\n",
    "display(df_products)"
   ]
  },
  {
   "cell_type": "code",
   "execution_count": 45,
   "metadata": {},
   "outputs": [
    {
     "data": {
      "image/png": "[encoded data removed]",
      "text/plain": [
       "<Figure size 504x504 with 1 Axes>"
      ]
     },
     "metadata": {},
     "output_type": "display_data"
    }
   ],
   "source": [
    "fig, axs = plt.subplots(figsize=(7,7))\n",
    "palette=sns.color_palette(\"bright\")\n",
    "patches, texts,  pcts =  axs.pie(\n",
    "        df_products[\"Products\"],\n",
    "        labels=df_products.index,\n",
    "        autopct=\"%0.2f%%\",\n",
    "        colors=palette,\n",
    "        wedgeprops={\n",
    "                    \"linewidth\":1,\n",
    "                    \"edgecolor\":\"white\"\n",
    "                   },\n",
    "        textprops={\n",
    "                    \"fontsize\":12,\n",
    "                    \"weight\":\"bold\"\n",
    "                  }\n",
    "       )\n",
    "axs.set_title(\"Composition of Products Data\", fontsize=20, fontweight=\"bold\", color=\"orange\")\n",
    "for i, patch in enumerate(patches):\n",
    "    texts[i].set_color(patch.get_facecolor())\n",
    "plt.tight_layout()\n",
    "plt.show()"
   ]
  },
  {
   "cell_type": "markdown",
   "metadata": {},
   "source": [
    "# Data Transformations"
   ]
  },
  {
   "cell_type": "markdown",
   "metadata": {},
   "source": [
    "## Transformation for Right Skew Data"
   ]
  },
  {
   "cell_type": "code",
   "execution_count": 46,
   "metadata": {},
   "outputs": [
    {
     "data": {
      "image/png": "[encoded data removed]",
      "text/plain": [
       "<Figure size 720x360 with 1 Axes>"
      ]
     },
     "metadata": {
      "needs_background": "light"
     },
     "output_type": "display_data"
    }
   ],
   "source": [
    "fig, axs = plt.subplots(figsize=(10,5))\n",
    "sns.histplot(data=raw_data, x=\"Pendapatan\", ax=axs)\n",
    "axs.set_title(\"Distribution of Income's Data\", fontsize=20, fontweight=\"bold\")\n",
    "axs.set_xlabel(\"Income\", fontsize=15)\n",
    "axs.set_ylabel(\"Count\", fontsize=15)\n",
    "plt.tight_layout()\n",
    "plt.show()"
   ]
  },
  {
   "cell_type": "code",
   "execution_count": 47,
   "metadata": {},
   "outputs": [],
   "source": [
    "raw_data_transformation_income = raw_data.copy()\n",
    "raw_data_transformation_income[\"income\"] = np.power(raw_data_transformation_income[\"Pendapatan\"], 1/5)"
   ]
  },
  {
   "cell_type": "code",
   "execution_count": 48,
   "metadata": {},
   "outputs": [
    {
     "data": {
      "image/png": "[encoded data removed]",
      "text/plain": [
       "<Figure size 864x720 with 2 Axes>"
      ]
     },
     "metadata": {
      "needs_background": "light"
     },
     "output_type": "display_data"
    }
   ],
   "source": [
    "probplot_columns = [\"Pendapatan\",\"income\"]\n",
    "fig, axs = plt.subplots(2, 1, figsize=(12, 10))\n",
    "for i, column in enumerate(probplot_columns):\n",
    "    stats.probplot(raw_data_transformation_income[column], plot=axs[i])\n",
    "    axs[i].set_title(\"Probability Plot {}\".format(column), fontsize=20, fontweight=\"bold\")\n",
    "    axs[i].set_xlabel(\"Theoritical Quantiles\", fontsize=15)\n",
    "    axs[i].set_ylabel(\"Ordered Values\", fontsize=15)\n",
    "plt.tight_layout()\n",
    "plt.show()"
   ]
  },
  {
   "cell_type": "markdown",
   "metadata": {},
   "source": [
    "## Box-Cox Transformations"
   ]
  },
  {
   "cell_type": "code",
   "execution_count": 49,
   "metadata": {},
   "outputs": [],
   "source": [
    "result, _ = stats.boxcox(raw_data[\"Pendapatan\"])"
   ]
  },
  {
   "cell_type": "code",
   "execution_count": 57,
   "metadata": {},
   "outputs": [
    {
     "data": {
      "image/png": "[encoded data removed]",
      "text/plain": [
       "<Figure size 1152x504 with 2 Axes>"
      ]
     },
     "metadata": {
      "needs_background": "light"
     },
     "output_type": "display_data"
    }
   ],
   "source": [
    "fig, axs = plt.subplots(1, 2, figsize=(16, 7))\n",
    "fig.suptitle(\"Transformation of Income Data\", fontsize=25, fontweight=\"bold\")\n",
    "sns.histplot(result,ax=axs[0])\n",
    "stats.probplot(result,plot=axs[1])\n",
    "plt.tight_layout()\n",
    "plt.show()"
   ]
  },
  {
   "cell_type": "markdown",
   "metadata": {},
   "source": [
    "## Transformation of Categorical Data Into Numbers"
   ]
  },
  {
   "cell_type": "code",
   "execution_count": 58,
   "metadata": {},
   "outputs": [
    {
     "data": {
      "text/html": [
       "<div>\n",
       "<style scoped>\n",
       "    .dataframe tbody tr th:only-of-type {\n",
       "        vertical-align: middle;\n",
       "    }\n",
       "\n",
       "    .dataframe tbody tr th {\n",
       "        vertical-align: top;\n",
       "    }\n",
       "\n",
       "    .dataframe thead th {\n",
       "        text-align: right;\n",
       "    }\n",
       "</style>\n",
       "<table border=\"1\" class=\"dataframe\">\n",
       "  <thead>\n",
       "    <tr style=\"text-align: right;\">\n",
       "      <th></th>\n",
       "      <th>A</th>\n",
       "      <th>B</th>\n",
       "      <th>C</th>\n",
       "      <th>D</th>\n",
       "      <th>E</th>\n",
       "    </tr>\n",
       "  </thead>\n",
       "  <tbody>\n",
       "    <tr>\n",
       "      <th>0</th>\n",
       "      <td>1</td>\n",
       "      <td>0</td>\n",
       "      <td>0</td>\n",
       "      <td>0</td>\n",
       "      <td>0</td>\n",
       "    </tr>\n",
       "    <tr>\n",
       "      <th>1</th>\n",
       "      <td>0</td>\n",
       "      <td>0</td>\n",
       "      <td>0</td>\n",
       "      <td>1</td>\n",
       "      <td>0</td>\n",
       "    </tr>\n",
       "    <tr>\n",
       "      <th>2</th>\n",
       "      <td>0</td>\n",
       "      <td>0</td>\n",
       "      <td>0</td>\n",
       "      <td>1</td>\n",
       "      <td>0</td>\n",
       "    </tr>\n",
       "    <tr>\n",
       "      <th>3</th>\n",
       "      <td>1</td>\n",
       "      <td>0</td>\n",
       "      <td>0</td>\n",
       "      <td>0</td>\n",
       "      <td>0</td>\n",
       "    </tr>\n",
       "    <tr>\n",
       "      <th>4</th>\n",
       "      <td>0</td>\n",
       "      <td>0</td>\n",
       "      <td>0</td>\n",
       "      <td>1</td>\n",
       "      <td>0</td>\n",
       "    </tr>\n",
       "    <tr>\n",
       "      <th>5</th>\n",
       "      <td>0</td>\n",
       "      <td>1</td>\n",
       "      <td>0</td>\n",
       "      <td>0</td>\n",
       "      <td>0</td>\n",
       "    </tr>\n",
       "    <tr>\n",
       "      <th>6</th>\n",
       "      <td>0</td>\n",
       "      <td>1</td>\n",
       "      <td>0</td>\n",
       "      <td>0</td>\n",
       "      <td>0</td>\n",
       "    </tr>\n",
       "    <tr>\n",
       "      <th>7</th>\n",
       "      <td>0</td>\n",
       "      <td>0</td>\n",
       "      <td>0</td>\n",
       "      <td>0</td>\n",
       "      <td>1</td>\n",
       "    </tr>\n",
       "    <tr>\n",
       "      <th>8</th>\n",
       "      <td>0</td>\n",
       "      <td>0</td>\n",
       "      <td>0</td>\n",
       "      <td>0</td>\n",
       "      <td>1</td>\n",
       "    </tr>\n",
       "    <tr>\n",
       "      <th>9</th>\n",
       "      <td>0</td>\n",
       "      <td>0</td>\n",
       "      <td>0</td>\n",
       "      <td>0</td>\n",
       "      <td>1</td>\n",
       "    </tr>\n",
       "    <tr>\n",
       "      <th>10</th>\n",
       "      <td>1</td>\n",
       "      <td>0</td>\n",
       "      <td>0</td>\n",
       "      <td>0</td>\n",
       "      <td>0</td>\n",
       "    </tr>\n",
       "    <tr>\n",
       "      <th>11</th>\n",
       "      <td>0</td>\n",
       "      <td>1</td>\n",
       "      <td>0</td>\n",
       "      <td>0</td>\n",
       "      <td>0</td>\n",
       "    </tr>\n",
       "    <tr>\n",
       "      <th>12</th>\n",
       "      <td>0</td>\n",
       "      <td>0</td>\n",
       "      <td>1</td>\n",
       "      <td>0</td>\n",
       "      <td>0</td>\n",
       "    </tr>\n",
       "    <tr>\n",
       "      <th>13</th>\n",
       "      <td>0</td>\n",
       "      <td>0</td>\n",
       "      <td>0</td>\n",
       "      <td>1</td>\n",
       "      <td>0</td>\n",
       "    </tr>\n",
       "    <tr>\n",
       "      <th>14</th>\n",
       "      <td>0</td>\n",
       "      <td>0</td>\n",
       "      <td>1</td>\n",
       "      <td>0</td>\n",
       "      <td>0</td>\n",
       "    </tr>\n",
       "    <tr>\n",
       "      <th>15</th>\n",
       "      <td>0</td>\n",
       "      <td>1</td>\n",
       "      <td>0</td>\n",
       "      <td>0</td>\n",
       "      <td>0</td>\n",
       "    </tr>\n",
       "    <tr>\n",
       "      <th>16</th>\n",
       "      <td>0</td>\n",
       "      <td>0</td>\n",
       "      <td>1</td>\n",
       "      <td>0</td>\n",
       "      <td>0</td>\n",
       "    </tr>\n",
       "    <tr>\n",
       "      <th>17</th>\n",
       "      <td>0</td>\n",
       "      <td>0</td>\n",
       "      <td>0</td>\n",
       "      <td>1</td>\n",
       "      <td>0</td>\n",
       "    </tr>\n",
       "    <tr>\n",
       "      <th>18</th>\n",
       "      <td>1</td>\n",
       "      <td>0</td>\n",
       "      <td>0</td>\n",
       "      <td>0</td>\n",
       "      <td>0</td>\n",
       "    </tr>\n",
       "    <tr>\n",
       "      <th>19</th>\n",
       "      <td>0</td>\n",
       "      <td>0</td>\n",
       "      <td>1</td>\n",
       "      <td>0</td>\n",
       "      <td>0</td>\n",
       "    </tr>\n",
       "  </tbody>\n",
       "</table>\n",
       "</div>"
      ],
      "text/plain": [
       "    A  B  C  D  E\n",
       "0   1  0  0  0  0\n",
       "1   0  0  0  1  0\n",
       "2   0  0  0  1  0\n",
       "3   1  0  0  0  0\n",
       "4   0  0  0  1  0\n",
       "5   0  1  0  0  0\n",
       "6   0  1  0  0  0\n",
       "7   0  0  0  0  1\n",
       "8   0  0  0  0  1\n",
       "9   0  0  0  0  1\n",
       "10  1  0  0  0  0\n",
       "11  0  1  0  0  0\n",
       "12  0  0  1  0  0\n",
       "13  0  0  0  1  0\n",
       "14  0  0  1  0  0\n",
       "15  0  1  0  0  0\n",
       "16  0  0  1  0  0\n",
       "17  0  0  0  1  0\n",
       "18  1  0  0  0  0\n",
       "19  0  0  1  0  0"
      ]
     },
     "metadata": {},
     "output_type": "display_data"
    }
   ],
   "source": [
    "raw_data_dummies_produk = pd.get_dummies(raw_data[\"Produk\"])\n",
    "display(raw_data_dummies_produk)"
   ]
  },
  {
   "cell_type": "markdown",
   "metadata": {},
   "source": [
    "# Skewness"
   ]
  },
  {
   "cell_type": "code",
   "execution_count": 60,
   "metadata": {},
   "outputs": [
    {
     "data": {
      "text/plain": [
       "ID Pelanggan        0.000000\n",
       "Jenis Kelamin      -0.945300\n",
       "Pendapatan          4.057334\n",
       "Harga              -0.031374\n",
       "Jumlah             -0.717438\n",
       "Total               0.569091\n",
       "Tingkat Kepuasan   -0.104314\n",
       "dtype: float64"
      ]
     },
     "metadata": {},
     "output_type": "display_data"
    }
   ],
   "source": [
    "display(raw_data[raw_data.columns[raw_data.dtypes != \"object\"]].skew())"
   ]
  },
  {
   "cell_type": "code",
   "execution_count": 62,
   "metadata": {},
   "outputs": [
    {
     "data": {
      "text/plain": [
       "2.473851042737281"
      ]
     },
     "metadata": {},
     "output_type": "display_data"
    },
    {
     "data": {
      "text/plain": [
       "2.2843058545185624"
      ]
     },
     "metadata": {},
     "output_type": "display_data"
    }
   ],
   "source": [
    "result_1 = np.power(raw_data[\"Pendapatan\"], 1/5)\n",
    "display(result_1.skew())\n",
    "display(stats.skew(result_1))"
   ]
  },
  {
   "cell_type": "code",
   "execution_count": 64,
   "metadata": {},
   "outputs": [
    {
     "data": {
      "text/plain": [
       "-0.08060561219862179"
      ]
     },
     "metadata": {},
     "output_type": "display_data"
    }
   ],
   "source": [
    "result_2, _ = stats.boxcox(raw_data[\"Pendapatan\"])\n",
    "# display(result_2.skew())\n",
    "display(stats.skew(result_2))"
   ]
  },
  {
   "cell_type": "markdown",
   "metadata": {},
   "source": [
    "# Data Visualizations Part 2"
   ]
  },
  {
   "cell_type": "markdown",
   "metadata": {},
   "source": [
    "## Correlations Matrixs"
   ]
  },
  {
   "cell_type": "code",
   "execution_count": 65,
   "metadata": {},
   "outputs": [],
   "source": [
    "raw_data_corr = raw_data.corr()"
   ]
  },
  {
   "cell_type": "code",
   "execution_count": 68,
   "metadata": {},
   "outputs": [
    {
     "data": {
      "image/png": "[encoded data removed]",
      "text/plain": [
       "<Figure size 1152x504 with 3 Axes>"
      ]
     },
     "metadata": {
      "needs_background": "light"
     },
     "output_type": "display_data"
    }
   ],
   "source": [
    "fig, axs = plt.subplots(1, 2, figsize=(16, 7))\n",
    "fig.suptitle(\"Correlation Matrixs\", fontsize=25, fontweight=\"bold\")\n",
    "axs[0].matshow(raw_data_corr)\n",
    "sns.heatmap(raw_data_corr, annot=True, ax=axs[1])\n",
    "plt.tight_layout()\n",
    "plt.show()"
   ]
  },
  {
   "cell_type": "markdown",
   "metadata": {},
   "source": [
    "## Grouped BoxPlot"
   ]
  },
  {
   "cell_type": "code",
   "execution_count": 80,
   "metadata": {},
   "outputs": [
    {
     "data": {
      "image/png": "[encoded data removed]",
      "text/plain": [
       "<Figure size 864x432 with 1 Axes>"
      ]
     },
     "metadata": {
      "needs_background": "light"
     },
     "output_type": "display_data"
    }
   ],
   "source": [
    "fig, axs = plt.subplots(figsize=(12, 6))\n",
    "sns.boxplot(data=raw_data, palette=\"bright\", ax=axs)\n",
    "axs.set_xticklabels(axs.get_xticklabels(), rotation=24)\n",
    "axs.set_yticks(axs.get_yticks())\n",
    "axs.set_yticklabels(axs.get_yticks()/1000000)\n",
    "axs.set_ylabel(\"Value of Quantile\", fontsize=15)\n",
    "axs.grid()\n",
    "plt.tight_layout()\n",
    "plt.show()"
   ]
  },
  {
   "cell_type": "code",
   "execution_count": 93,
   "metadata": {},
   "outputs": [
    {
     "data": {
      "image/png": "[encoded data removed]",
      "text/plain": [
       "<Figure size 864x432 with 1 Axes>"
      ]
     },
     "metadata": {
      "needs_background": "light"
     },
     "output_type": "display_data"
    }
   ],
   "source": [
    "fig, axs = plt.subplots(figsize=(12, 6))\n",
    "sns.boxplot(data=raw_data, x=\"Pendapatan\", y=\"Produk\", palette=\"bright\", ax=axs)\n",
    "axs.set_xticks(axs.get_xticks())\n",
    "axs.set_xticklabels(axs.get_xticks()/1000000)\n",
    "axs.set_xlabel(\"Pendapatan\", fontsize=20)\n",
    "axs.set_ylabel(\"Value of Quantile\", fontsize=15)\n",
    "axs.grid()\n",
    "plt.tight_layout()\n",
    "plt.show()"
   ]
  },
  {
   "cell_type": "markdown",
   "metadata": {},
   "source": [
    "## Grouped Histogram"
   ]
  },
  {
   "cell_type": "code",
   "execution_count": 103,
   "metadata": {},
   "outputs": [
    {
     "data": {
      "image/png": "[encoded data removed]",
      "text/plain": [
       "<Figure size 720x432 with 1 Axes>"
      ]
     },
     "metadata": {
      "needs_background": "light"
     },
     "output_type": "display_data"
    }
   ],
   "source": [
    "fig, axs = plt.subplots(figsize=(10, 6))\n",
    "sns.histplot(data=raw_data[raw_data[\"Produk\"] == \"A\"], x=\"Pendapatan\", ax=axs)\n",
    "axs.set_xlabel(\"Pendapatan\", fontsize=15)\n",
    "axs.set_ylabel(\"Count\", fontsize=15)\n",
    "plt.tight_layout()\n",
    "plt.show()"
   ]
  },
  {
   "cell_type": "markdown",
   "metadata": {},
   "source": [
    "## Hex Bin Plot"
   ]
  },
  {
   "cell_type": "code",
   "execution_count": 116,
   "metadata": {},
   "outputs": [
    {
     "data": {
      "image/png": "[encoded data removed]",
      "text/plain": [
       "<Figure size 720x720 with 3 Axes>"
      ]
     },
     "metadata": {
      "needs_background": "light"
     },
     "output_type": "display_data"
    }
   ],
   "source": [
    "palette = sns.color_palette(\"bright\")\n",
    "sns.jointplot(data=raw_data, x=\"Pendapatan\", y=\"Total\", kind=\"hex\", color=\"blue\", height=10)\n",
    "plt.tight_layout()\n",
    "plt.show()"
   ]
  },
  {
   "cell_type": "markdown",
   "metadata": {},
   "source": [
    "## Scatter Matrix Plot"
   ]
  },
  {
   "cell_type": "code",
   "execution_count": 117,
   "metadata": {},
   "outputs": [
    {
     "name": "stderr",
     "output_type": "stream",
     "text": [
      "C:\\Users\\MYHOME~1\\AppData\\Local\\Temp/ipykernel_3392/2181075363.py:3: UserWarning: To output multiple subplots, the figure containing the passed axes is being cleared\n",
      "  scatter_matrix(raw_data, ax=axs)\n"
     ]
    },
    {
     "data": {
      "image/png": "[encoded data removed]",
      "text/plain": [
       "<Figure size 720x720 with 49 Axes>"
      ]
     },
     "metadata": {
      "needs_background": "light"
     },
     "output_type": "display_data"
    }
   ],
   "source": [
    "from pandas.plotting import scatter_matrix\n",
    "fig, axs = plt.subplots(1, 1, figsize=(10, 10))\n",
    "scatter_matrix(raw_data, ax=axs)\n",
    "plt.tight_layout()\n",
    "plt.show()"
   ]
  },
  {
   "cell_type": "code",
   "execution_count": 123,
   "metadata": {},
   "outputs": [
    {
     "data": {
      "image/png": "[encoded data removed]",
      "text/plain": [
       "<Figure size 864x504 with 1 Axes>"
      ]
     },
     "metadata": {
      "needs_background": "light"
     },
     "output_type": "display_data"
    }
   ],
   "source": [
    "fig, axs = plt.subplots(1, 1, figsize=(12, 7))\n",
    "sns.scatterplot(data=raw_data, x=\"Pendapatan\", y=\"Total\", markers=\"D\", ax=axs)\n",
    "plt.tight_layout()\n",
    "plt.show()"
   ]
  },
  {
   "cell_type": "code",
   "execution_count": null,
   "metadata": {},
   "outputs": [],
   "source": []
  }
 ],
 "metadata": {
  "interpreter": {
   "hash": "a735e8d5f2ebeae8eff3c40d8a94f415263963b10ae3464c60988cc9ac0e5420"
  },
  "kernelspec": {
   "display_name": "Python 3.8.10 64-bit",
   "language": "python",
   "name": "python3"
  },
  "language_info": {
   "codemirror_mode": {
    "name": "ipython",
    "version": 3
   },
   "file_extension": ".py",
   "mimetype": "text/x-python",
   "name": "python",
   "nbconvert_exporter": "python",
   "pygments_lexer": "ipython3",
   "version": "3.8.10"
  },
  "orig_nbformat": 4
 },
 "nbformat": 4,
 "nbformat_minor": 2
}
